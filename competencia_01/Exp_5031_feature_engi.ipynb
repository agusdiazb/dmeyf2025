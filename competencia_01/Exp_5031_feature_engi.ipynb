{
  "cells": [
    {
      "cell_type": "markdown",
      "metadata": {
        "id": "0cEmzeUKFkPh"
      },
      "source": [
        "# Modelo Churn"
      ]
    },
    {
      "cell_type": "markdown",
      "metadata": {
        "id": "dseB4qb9RqUb"
      },
      "source": [
        "## Generacion de la clase_ternaria"
      ]
    },
    {
      "cell_type": "markdown",
      "metadata": {
        "id": "LCEnE_02RuIQ"
      },
      "source": [
        "Esta parte se debe correr con el runtime en lenguaje **R** Ir al menu, Runtime -> Change Runtime Tipe -> Runtime type -> R"
      ]
    },
    {
      "cell_type": "code",
      "execution_count": null,
      "metadata": {
        "colab": {
          "base_uri": "https://localhost:8080/"
        },
        "id": "P863YZB9R1Ua",
        "outputId": "7ff7cd63-2bc3-476b-b8a6-425dd546840f",
        "vscode": {
          "languageId": "r"
        }
      },
      "outputs": [
        {
          "name": "stderr",
          "output_type": "stream",
          "text": [
            "Loading required package: data.table\n",
            "\n"
          ]
        }
      ],
      "source": [
        "require( \"data.table\" )\n",
        "\n",
        "# leo el dataset\n",
        "dataset <- fread(\"/content/datasets/competencia_01_crudo.csv\" )\n",
        "\n",
        "# calculo el periodo0 consecutivo\n",
        "dsimple <- dataset[, list(\n",
        "    \"pos\" = .I,\n",
        "    numero_de_cliente,\n",
        "    periodo0 = as.integer(foto_mes/100)*12 +  foto_mes%%100 ) ]\n",
        "\n",
        "\n",
        "# ordeno\n",
        "setorder( dsimple, numero_de_cliente, periodo0 )\n",
        "\n",
        "# calculo topes\n",
        "periodo_ultimo <- dsimple[, max(periodo0) ]\n",
        "periodo_anteultimo <- periodo_ultimo - 1\n",
        "\n",
        "\n",
        "# calculo los leads de orden 1 y 2\n",
        "dsimple[, c(\"periodo1\", \"periodo2\") :=\n",
        "    shift(periodo0, n=1:2, fill=NA, type=\"lead\"),  numero_de_cliente ]\n",
        "\n",
        "# assign most common class values = \"CONTINUA\"\n",
        "dsimple[ periodo0 < periodo_anteultimo, clase_ternaria := \"CONTINUA\" ]\n",
        "\n",
        "# calculo BAJA+1\n",
        "dsimple[ periodo0 < periodo_ultimo &\n",
        "    ( is.na(periodo1) | periodo0 + 1 < periodo1 ),\n",
        "    clase_ternaria := \"BAJA+1\" ]\n",
        "\n",
        "# calculo BAJA+2\n",
        "dsimple[ periodo0 < periodo_anteultimo & (periodo0+1 == periodo1 )\n",
        "    & ( is.na(periodo2) | periodo0 + 2 < periodo2 ),\n",
        "    clase_ternaria := \"BAJA+2\" ]\n",
        "\n",
        "\n",
        "# pego el resultado en el dataset original y grabo\n",
        "setorder( dsimple, pos )\n",
        "dataset[, clase_ternaria := dsimple$clase_ternaria ]\n",
        "\n",
        "# fwrite( dataset,\n",
        "#     file =  \"/content/datasets/competencia_01.csv.gz\",\n",
        "#     sep = \",\"\n",
        "# )"
      ]
    },
    {
      "cell_type": "code",
      "execution_count": null,
      "metadata": {
        "colab": {
          "base_uri": "https://localhost:8080/"
        },
        "id": "4xfHorwC02QD",
        "outputId": "45c4a338-0c03-42f9-e9d7-4014f0f568a7",
        "vscode": {
          "languageId": "r"
        }
      },
      "outputs": [
        {
          "name": "stdout",
          "output_type": "stream",
          "text": [
            "Paso 1: Creando flag de Aguinaldo y normalizando payroll...\n",
            "Paso 1: Flag de Aguinaldo y normalización completados. Originales de payroll eliminadas.\n"
          ]
        }
      ],
      "source": [
        "# --- PASO 1: Feature Engineering de Eventos (Aguinaldo) ---\n",
        "# Se realiza primero, usando los valores nominales originales.\n",
        "\n",
        "cat(\"Paso 1: Creando flag de Aguinaldo y normalizando payroll...\\n\")\n",
        "setorder(dataset, numero_de_cliente, foto_mes)\n",
        "\n",
        "# 1.1. Crear el flag 'recibe_aguinaldo' usando el ingreso total\n",
        "dataset[, ingreso_total_payroll := mpayroll + mpayroll2]\n",
        "dataset[, lag_ingreso_total := shift(ingreso_total_payroll, n = 1, type = \"lag\"), by = numero_de_cliente]\n",
        "dataset[, recibe_aguinaldo := 0L]\n",
        "dataset[foto_mes == 202106 &\n",
        "        lag_ingreso_total > 0 &\n",
        "        (ingreso_total_payroll / lag_ingreso_total) >= 1.3 &\n",
        "        (ingreso_total_payroll / lag_ingreso_total) <= 1.8,\n",
        "        recibe_aguinaldo := 1L]\n",
        "\n",
        "# 1.2. Crear la columna 'mpayroll_normalizado'\n",
        "dataset[, mpayroll_normalizado := ingreso_total_payroll]\n",
        "dataset[foto_mes == 202106 & recibe_aguinaldo == 1,\n",
        "        mpayroll_normalizado := ingreso_total_payroll / 1.5]\n",
        "\n",
        "# 1.3. Limpieza inmediata de columnas originales de payroll\n",
        "dataset[, c(\"ingreso_total_payroll\", \"lag_ingreso_total\", \"mpayroll\", \"mpayroll2\") := NULL]\n",
        "\n",
        "\n",
        "cat(\"Paso 1: Flag de Aguinaldo y normalización completados. Originales de payroll eliminadas.\\n\")\n"
      ]
    },
    {
      "cell_type": "code",
      "execution_count": null,
      "metadata": {
        "colab": {
          "base_uri": "https://localhost:8080/"
        },
        "id": "82mz0xOsIjxl",
        "outputId": "62a54420-b8bf-4843-e9f6-c98fbafad307",
        "vscode": {
          "languageId": "r"
        }
      },
      "outputs": [
        {
          "name": "stdout",
          "output_type": "stream",
          "text": [
            "Paso 2: Creadas variables agregadas y ratios de negocio...\n"
          ]
        }
      ],
      "source": [
        "# --- PASO 2: Feature Engineering de Agregación y Ratios ---\n",
        "\n",
        "\n",
        "# 2.1. Definición de grupos de columnas (exhaustiva)\n",
        "cols_activos_liquidos <- c(\"mcuenta_corriente_adicional\", \"mcuenta_corriente\", \"mcaja_ahorro\", \"mcaja_ahorro_adicional\", \"mcaja_ahorro_dolares\", \"mplazo_fijo_dolares\", \"mplazo_fijo_pesos\", \"minversion1_pesos\", \"minversion1_dolares\", \"minversion2\")\n",
        "cols_deuda_tarjetas <- c(\"Master_msaldototal\", \"Visa_msaldototal\")\n",
        "cols_ingresos <- c(\"mtransferencias_recibidas\", \"mcheques_depositados\")\n",
        "cols_gastos <- c(\"mcomisiones\", \"mactivos_margen\", \"mtarjeta_visa_consumo\", \"mtarjeta_master_consumo\", \"mcuenta_debitos_automaticos\", \"mttarjeta_visa_debitos_automaticos\", \"mttarjeta_master_debitos_automaticos\", \"mpagodeservicios\", \"mpagomiscuentas\", \"mtransferencias_emitidas\", \"mextraccion_autoservicio\", \"mcheques_emitidos\", \"mforex_buy\", \"Master_madelantopesos\", \"Master_madelantodolares\", \"Visa_madelantopesos\", \"Visa_madelantodolares\")\n",
        "\n",
        "# 2.2. Creación de variables agregadas\n",
        "dataset[, total_activos_liquidos := rowSums(.SD, na.rm = TRUE), .SDcols = cols_activos_liquidos]\n",
        "dataset[, total_deuda_tarjetas := rowSums(.SD, na.rm = TRUE), .SDcols = cols_deuda_tarjetas]\n",
        "dataset[, total_ingresos := rowSums(.SD, na.rm = TRUE), .SDcols = cols_ingresos]\n",
        "dataset[, total_gastos := rowSums(.SD, na.rm = TRUE), .SDcols = cols_gastos]\n",
        "\n",
        "# 2.3. Creación de Ratios de Negocio (¡Nuevas y potentes!)\n",
        "# Se usa 'fifelse' para manejar divisiones por cero de forma segura\n",
        "dataset[, ratio_deuda_ingreso := fifelse(total_ingresos > 0, total_deuda_tarjetas / total_ingresos, 0)]\n",
        "dataset[, ratio_gasto_ingreso := fifelse(total_ingresos > 0, total_gastos / total_ingresos, 0)]\n",
        "dataset[, ratio_uso_visa := fifelse(Visa_mlimitecompra > 0, mtarjeta_visa_consumo / Visa_mlimitecompra, 0)]\n",
        "dataset[, ratio_uso_master := fifelse(Master_mlimitecompra > 0, mtarjeta_master_consumo / Master_mlimitecompra, 0)]\n",
        "dataset[, ratio_fuga_capital := fifelse(mtransferencias_recibidas > 0, mtransferencias_emitidas / mtransferencias_recibidas, 0)]\n",
        "\n",
        "\n",
        "\n",
        "\n",
        "cat(\"Paso 2: Creadas variables agregadas y ratios de negocio...\\n\")\n"
      ]
    },
    {
      "cell_type": "code",
      "execution_count": null,
      "metadata": {
        "id": "EW74bcvxsfFN",
        "outputId": "df98fb51-5b28-4c24-ba5f-d7c302c7294f",
        "vscode": {
          "languageId": "r"
        }
      },
      "outputs": [
        {
          "name": "stdout",
          "output_type": "stream",
          "text": [
            "Paso 3: Creando flag de 'Efecto Anticipación'...\n"
          ]
        }
      ],
      "source": [
        "# --- PASO 3: Feature Engineering \"Efecto Anticipación\" ---\n",
        "cat(\"Paso 3: Creando flag de 'Efecto Anticipación'...\\n\")\n",
        "\n",
        "dataset[, lag_total_gastos := shift(total_gastos, n = 1, type = \"lag\"), by = numero_de_cliente]\n",
        "dataset[, anticipa_gasto := 0L]\n",
        "dataset[foto_mes == 202105 & lag_total_gastos > 0 & (total_gastos / lag_total_gastos) >= 1.20, anticipa_gasto := 1L]\n",
        "dataset[, lag1_anticipa_gasto := shift(anticipa_gasto, n = 1, type = \"lag\"), by = numero_de_cliente]\n",
        "dataset[, c(\"lag_total_gastos\", \"anticipa_gasto\") := NULL]\n",
        "setnames(dataset, \"lag1_anticipa_gasto\", \"anticipa_gasto_en_mayo\")\n",
        "dataset[is.na(anticipa_gasto_en_mayo), anticipa_gasto_en_mayo := 0] # Limpieza de NAs\n"
      ]
    },
    {
      "cell_type": "code",
      "execution_count": null,
      "metadata": {
        "id": "r0KW_KEYYEMf",
        "vscode": {
          "languageId": "r"
        }
      },
      "outputs": [],
      "source": [
        "# 3.1. Identificar TODAS las variables numéricas a procesar\n",
        "columnas_originales <- colnames(dataset)\n",
        "columnas_a_ignorar <- c(\"numero_de_cliente\", \"foto_mes\", \"clase_ternaria\",\n",
        "                        \"active_quarter\", \"cliente_vip\", \"internet\", \"tcuentas\",\n",
        "                        \"cdescubierto_preacordado\", \"ccaja_seguridad\",\n",
        "                        \"tcallcenter\", \"thomebanking\", \"tmobile_app\",\n",
        "                        \"Master_delinquency\", \"Master_status\", \"Visa_delinquency\", \"Visa_status\",\n",
        "                        \"recibe_aguinaldo\", \"anticipa_gasto_en_mayo\")\n",
        "variables_numericas <- setdiff(columnas_originales, columnas_a_ignorar)\n",
        "variables_numericas <- variables_numericas[sapply(dataset[, ..variables_numericas], is.numeric)]\n",
        "\n",
        "# 3.2. Identificar cuáles necesitan \"Rank a Cero Fijo\"\n",
        "columnas_con_negativos <- sapply(variables_numericas, function(col) any(dataset[[col]] < 0, na.rm = TRUE))\n",
        "columnas_con_negativos <- names(columnas_con_negativos[columnas_con_negativos == TRUE])\n",
        "\n",
        "# 3.3. Definir y aplicar los rankings mes a mes\n",
        "rank_a_cero_fijo <- function(vector) {\n",
        "  vector_rank <- vector; vector_rank[vector == 0] <- 0\n",
        "  positivos <- vector > 0 & !is.na(vector)\n",
        "  if (any(positivos)) { vector_rank[positivos] <- frankv(vector[positivos], ties.method = \"random\") / sum(positivos) }\n",
        "  negativos <- vector < 0 & !is.na(vector)\n",
        "  if (any(negativos)) { vector_rank[negativos] <- (frankv(vector[negativos], ties.method = \"random\") / sum(negativos)) - 1 }\n",
        "  return(vector_rank)\n",
        "}\n",
        "for (col in variables_numericas) {\n",
        "  nueva_col_rank <- paste0(col, \"_rank\")\n",
        "  if (col %in% columnas_con_negativos) {\n",
        "    dataset[, (nueva_col_rank) := rank_a_cero_fijo(.SD[[1]]), by = foto_mes, .SDcols = col]\n",
        "  } else {\n",
        "    dataset[, (nueva_col_rank) := frankv(.SD[[1]], ties.method = \"random\") / .N, by = foto_mes, .SDcols = col]\n",
        "  }\n",
        "}\n",
        "\n",
        "# 3.4. Limpiar columnas numéricas originales\n",
        "dataset[, (variables_numericas) := NULL]"
      ]
    },
    {
      "cell_type": "code",
      "execution_count": null,
      "metadata": {
        "colab": {
          "base_uri": "https://localhost:8080/"
        },
        "id": "bsQg_oNaP5I2",
        "outputId": "17c09881-8579-42c6-93d8-f83aa7dc2f8b",
        "vscode": {
          "languageId": "r"
        }
      },
      "outputs": [
        {
          "name": "stdout",
          "output_type": "stream",
          "text": [
            "Paso 4.3: Lags de orden 1 y 2 creados.\n",
            "Paso 4.4: Deltas de orden 1 y 2 creados de forma vectorizada.\n"
          ]
        }
      ],
      "source": [
        "# --- PASO 4: Creación de Lags y Deltas de Orden 1 y 2 (Forma Optimizada) ---\n",
        "\n",
        "# 4.1. y 4.2. (Sin cambios)\n",
        "columnas_a_ignorar_lags <- c(\"numero_de_cliente\", \"foto_mes\", \"clase_ternaria\",\n",
        "                             \"active_quarter\", \"cliente_vip\", \"internet\",\n",
        "                             \"cdescubierto_preacordado\", \"ccaja_seguridad\",\n",
        "                             \"tcallcenter\", \"thomebanking\", \"tmobile_app\",\n",
        "                             \"Master_delinquency\", \"Visa_delinquency\",\n",
        "                             \"recibe_aguinaldo\", \"anticipa_gasto_en_mayo\",\n",
        "                             \"Master_status\", \"Visa_status\")\n",
        "columnas_a_rezagar <- setdiff(colnames(dataset), columnas_a_ignorar_lags)\n",
        "\n",
        "\n",
        "# 4.3. Creamos los Lags de orden 1 y 2\n",
        "#     Podemos hacerlo en una sola llamada a shift() para mayor eficiencia\n",
        "nombres_lags <- c(paste0(\"lag1_\", columnas_a_rezagar),\n",
        "                  paste0(\"lag2_\", columnas_a_rezagar)) # <-- CAMBIO: Eliminado el lag3\n",
        "dataset[, (nombres_lags) := shift(.SD, n = 1:2, type = \"lag\"), by = numero_de_cliente, .SDcols = columnas_a_rezagar] # <-- CAMBIO: n = 1:2\n",
        "\n",
        "cat(\"Paso 4.3: Lags de orden 1 y 2 creados.\\n\")\n",
        "\n",
        "\n",
        "# 4.4. Creamos los Delta Lags de orden 1 y 2 de forma vectorizada\n",
        "variables_numericas_rezagadas <- columnas_a_rezagar[sapply(dataset[, ..columnas_a_rezagar], is.numeric)]\n",
        "\n",
        "# Nombres de las columnas para los cálculos\n",
        "cols_originales_num <- variables_numericas_rezagadas\n",
        "cols_lag1_num <- paste0(\"lag1_\", variables_numericas_rezagadas)\n",
        "cols_lag2_num <- paste0(\"lag2_\", variables_numericas_rezagadas)\n",
        "#cols_lag3_num <- paste0(\"lag3_\", variables_numericas_rezagadas) # <-- CAMBIO: Eliminado\n",
        "cols_delta1 <- paste0(\"delta1_\", variables_numericas_rezagadas)\n",
        "cols_delta2 <- paste0(\"delta2_\", variables_numericas_rezagadas)\n",
        "#cols_delta3 <- paste0(\"delta3_\", variables_numericas_rezagadas) # <-- CAMBIO: Eliminado\n",
        "\n",
        "# Calculamos todos los deltas en dos operaciones vectorizadas\n",
        "dataset[, (cols_delta1) := .SD[, cols_originales_num, with = FALSE] - .SD[, cols_lag1_num, with = FALSE]]\n",
        "dataset[, (cols_delta2) := .SD[, cols_originales_num, with = FALSE] - .SD[, cols_lag2_num, with = FALSE]]\n",
        "#dataset[, (cols_delta3) := .SD[, cols_originales_num, with = FALSE] - .SD[, cols_lag3_num, with = FALSE]] # <-- CAMBIO: Eliminado\n",
        "\n",
        "cat(\"Paso 4.4: Deltas de orden 1 y 2 creados de forma vectorizada.\\n\")"
      ]
    },
    {
      "cell_type": "code",
      "execution_count": null,
      "metadata": {
        "id": "mrX5XU5pno1V",
        "outputId": "0c258c2f-49ae-49b9-a4f9-bf2e4ffa1f6a",
        "vscode": {
          "languageId": "r"
        }
      },
      "outputs": [
        {
          "name": "stdout",
          "output_type": "stream",
          "text": [
            "Paso 5: Dataset final con todas las transformaciones guardado.\n"
          ]
        }
      ],
      "source": [
        "# --- PASO 5: Guardado del Dataset Final ---\n",
        "fwrite(dataset, file = \"competencia_01_FE_V2.csv.gz\", sep = \",\")\n",
        "cat(\"Paso 5: Dataset final con todas las transformaciones guardado.\\n\")"
      ]
    },
    {
      "cell_type": "code",
      "execution_count": null,
      "metadata": {
        "colab": {
          "base_uri": "https://localhost:8080/",
          "height": 568
        },
        "id": "S3hL7tv8W4rn",
        "outputId": "6a8d0d5a-8efd-43dd-c6f1-0eae7387199c",
        "vscode": {
          "languageId": "r"
        }
      },
      "outputs": [
        {
          "data": {
            "text/html": [
              "<table class=\"dataframe\">\n",
              "<caption>A data.table: 15 × 3</caption>\n",
              "<thead>\n",
              "\t<tr><th scope=col>foto_mes</th><th scope=col>clase_ternaria</th><th scope=col>N</th></tr>\n",
              "\t<tr><th scope=col>&lt;int&gt;</th><th scope=col>&lt;chr&gt;</th><th scope=col>&lt;int&gt;</th></tr>\n",
              "</thead>\n",
              "<tbody>\n",
              "\t<tr><td>202101</td><td>BAJA+1  </td><td>   622</td></tr>\n",
              "\t<tr><td>202101</td><td>BAJA+2  </td><td>   825</td></tr>\n",
              "\t<tr><td>202101</td><td>CONTINUA</td><td>160080</td></tr>\n",
              "\t<tr><td>202102</td><td>BAJA+1  </td><td>   831</td></tr>\n",
              "\t<tr><td>202102</td><td>BAJA+2  </td><td>  1032</td></tr>\n",
              "\t<tr><td>202102</td><td>CONTINUA</td><td>160292</td></tr>\n",
              "\t<tr><td>202103</td><td>BAJA+1  </td><td>  1039</td></tr>\n",
              "\t<tr><td>202103</td><td>BAJA+2  </td><td>   951</td></tr>\n",
              "\t<tr><td>202103</td><td>CONTINUA</td><td>161119</td></tr>\n",
              "\t<tr><td>202104</td><td>BAJA+1  </td><td>   955</td></tr>\n",
              "\t<tr><td>202104</td><td>BAJA+2  </td><td>  1130</td></tr>\n",
              "\t<tr><td>202104</td><td>CONTINUA</td><td>161333</td></tr>\n",
              "\t<tr><td>202105</td><td>NA      </td><td>162783</td></tr>\n",
              "\t<tr><td>202105</td><td>BAJA+1  </td><td>  1134</td></tr>\n",
              "\t<tr><td>202106</td><td>NA      </td><td>164313</td></tr>\n",
              "</tbody>\n",
              "</table>\n"
            ],
            "text/latex": [
              "A data.table: 15 × 3\n",
              "\\begin{tabular}{lll}\n",
              " foto\\_mes & clase\\_ternaria & N\\\\\n",
              " <int> & <chr> & <int>\\\\\n",
              "\\hline\n",
              "\t 202101 & BAJA+1   &    622\\\\\n",
              "\t 202101 & BAJA+2   &    825\\\\\n",
              "\t 202101 & CONTINUA & 160080\\\\\n",
              "\t 202102 & BAJA+1   &    831\\\\\n",
              "\t 202102 & BAJA+2   &   1032\\\\\n",
              "\t 202102 & CONTINUA & 160292\\\\\n",
              "\t 202103 & BAJA+1   &   1039\\\\\n",
              "\t 202103 & BAJA+2   &    951\\\\\n",
              "\t 202103 & CONTINUA & 161119\\\\\n",
              "\t 202104 & BAJA+1   &    955\\\\\n",
              "\t 202104 & BAJA+2   &   1130\\\\\n",
              "\t 202104 & CONTINUA & 161333\\\\\n",
              "\t 202105 & NA       & 162783\\\\\n",
              "\t 202105 & BAJA+1   &   1134\\\\\n",
              "\t 202106 & NA       & 164313\\\\\n",
              "\\end{tabular}\n"
            ],
            "text/markdown": [
              "\n",
              "A data.table: 15 × 3\n",
              "\n",
              "| foto_mes &lt;int&gt; | clase_ternaria &lt;chr&gt; | N &lt;int&gt; |\n",
              "|---|---|---|\n",
              "| 202101 | BAJA+1   |    622 |\n",
              "| 202101 | BAJA+2   |    825 |\n",
              "| 202101 | CONTINUA | 160080 |\n",
              "| 202102 | BAJA+1   |    831 |\n",
              "| 202102 | BAJA+2   |   1032 |\n",
              "| 202102 | CONTINUA | 160292 |\n",
              "| 202103 | BAJA+1   |   1039 |\n",
              "| 202103 | BAJA+2   |    951 |\n",
              "| 202103 | CONTINUA | 161119 |\n",
              "| 202104 | BAJA+1   |    955 |\n",
              "| 202104 | BAJA+2   |   1130 |\n",
              "| 202104 | CONTINUA | 161333 |\n",
              "| 202105 | NA       | 162783 |\n",
              "| 202105 | BAJA+1   |   1134 |\n",
              "| 202106 | NA       | 164313 |\n",
              "\n"
            ],
            "text/plain": [
              "   foto_mes clase_ternaria N     \n",
              "1  202101   BAJA+1            622\n",
              "2  202101   BAJA+2            825\n",
              "3  202101   CONTINUA       160080\n",
              "4  202102   BAJA+1            831\n",
              "5  202102   BAJA+2           1032\n",
              "6  202102   CONTINUA       160292\n",
              "7  202103   BAJA+1           1039\n",
              "8  202103   BAJA+2            951\n",
              "9  202103   CONTINUA       161119\n",
              "10 202104   BAJA+1            955\n",
              "11 202104   BAJA+2           1130\n",
              "12 202104   CONTINUA       161333\n",
              "13 202105   NA             162783\n",
              "14 202105   BAJA+1           1134\n",
              "15 202106   NA             164313"
            ]
          },
          "metadata": {},
          "output_type": "display_data"
        }
      ],
      "source": [
        "setorder( dataset, foto_mes, clase_ternaria, numero_de_cliente)\n",
        "dataset[, .N, list(foto_mes, clase_ternaria)]"
      ]
    },
    {
      "cell_type": "markdown",
      "metadata": {
        "id": "oSKhZRToy2F7"
      },
      "source": [
        "### 2.2 Optimizacion Hiperparámetros"
      ]
    },
    {
      "cell_type": "markdown",
      "metadata": {
        "id": "2kwPpHAtSmix"
      },
      "source": [
        "Esta parte se debe correr con el runtime en lenguaje R Ir al menu, Runtime -> Change Runtime Type -> Runtime type -> R"
      ]
    },
    {
      "cell_type": "markdown",
      "metadata": {
        "id": "xp4-Bj3aYI8d"
      },
      "source": [
        "### 2.2.1 Inicio"
      ]
    },
    {
      "cell_type": "markdown",
      "metadata": {
        "id": "zy8YTZfESxeJ"
      },
      "source": [
        "limpio el ambiente de R"
      ]
    },
    {
      "cell_type": "code",
      "execution_count": null,
      "metadata": {
        "colab": {
          "base_uri": "https://localhost:8080/",
          "height": 34
        },
        "id": "gBq__iAdQliq",
        "outputId": "cd8fe0e7-784f-48ae-a7bc-83058b4835ac",
        "vscode": {
          "languageId": "r"
        }
      },
      "outputs": [
        {
          "data": {
            "text/html": [
              "'Sun Oct 12 21:22:33 2025'"
            ],
            "text/latex": [
              "'Sun Oct 12 21:22:33 2025'"
            ],
            "text/markdown": [
              "'Sun Oct 12 21:22:33 2025'"
            ],
            "text/plain": [
              "[1] \"Sun Oct 12 21:22:33 2025\""
            ]
          },
          "metadata": {},
          "output_type": "display_data"
        }
      ],
      "source": [
        "format(Sys.time(), \"%a %b %d %X %Y\")"
      ]
    },
    {
      "cell_type": "code",
      "execution_count": null,
      "metadata": {
        "colab": {
          "base_uri": "https://localhost:8080/",
          "height": 129
        },
        "id": "7rdVrBojS1IV",
        "outputId": "41994ba4-f1f7-42a0-8d19-3f241e02962a",
        "vscode": {
          "languageId": "r"
        }
      },
      "outputs": [
        {
          "data": {
            "text/html": [
              "<table class=\"dataframe\">\n",
              "<caption>A matrix: 2 × 6 of type dbl</caption>\n",
              "<thead>\n",
              "\t<tr><th></th><th scope=col>used</th><th scope=col>(Mb)</th><th scope=col>gc trigger</th><th scope=col>(Mb)</th><th scope=col>max used</th><th scope=col>(Mb)</th></tr>\n",
              "</thead>\n",
              "<tbody>\n",
              "\t<tr><th scope=row>Ncells</th><td> 741879</td><td>39.7</td><td>   1454645</td><td>  77.7</td><td>   1454645</td><td>   77.7</td></tr>\n",
              "\t<tr><th scope=row>Vcells</th><td>1448289</td><td>11.1</td><td>1067162654</td><td>8141.9</td><td>1322134146</td><td>10087.1</td></tr>\n",
              "</tbody>\n",
              "</table>\n"
            ],
            "text/latex": [
              "A matrix: 2 × 6 of type dbl\n",
              "\\begin{tabular}{r|llllll}\n",
              "  & used & (Mb) & gc trigger & (Mb) & max used & (Mb)\\\\\n",
              "\\hline\n",
              "\tNcells &  741879 & 39.7 &    1454645 &   77.7 &    1454645 &    77.7\\\\\n",
              "\tVcells & 1448289 & 11.1 & 1067162654 & 8141.9 & 1322134146 & 10087.1\\\\\n",
              "\\end{tabular}\n"
            ],
            "text/markdown": [
              "\n",
              "A matrix: 2 × 6 of type dbl\n",
              "\n",
              "| <!--/--> | used | (Mb) | gc trigger | (Mb) | max used | (Mb) |\n",
              "|---|---|---|---|---|---|---|\n",
              "| Ncells |  741879 | 39.7 |    1454645 |   77.7 |    1454645 |    77.7 |\n",
              "| Vcells | 1448289 | 11.1 | 1067162654 | 8141.9 | 1322134146 | 10087.1 |\n",
              "\n"
            ],
            "text/plain": [
              "       used    (Mb) gc trigger (Mb)   max used   (Mb)   \n",
              "Ncells  741879 39.7    1454645   77.7    1454645    77.7\n",
              "Vcells 1448289 11.1 1067162654 8141.9 1322134146 10087.1"
            ]
          },
          "metadata": {},
          "output_type": "display_data"
        }
      ],
      "source": [
        "# limpio la memoria\n",
        "rm(list=ls(all.names=TRUE)) # remove all objects\n",
        "gc(full=TRUE, verbose=FALSE) # garbage collection"
      ]
    },
    {
      "cell_type": "markdown",
      "metadata": {
        "id": "kuPfQ7ksjwW3"
      },
      "source": [
        "### 2.2.2 Carga de Librerias"
      ]
    },
    {
      "cell_type": "markdown",
      "metadata": {
        "id": "B8BaSFlGfvma"
      },
      "source": [
        "Esta parte lleva varios minutos la primera vez en Google Colab"
      ]
    },
    {
      "cell_type": "code",
      "execution_count": null,
      "metadata": {
        "colab": {
          "base_uri": "https://localhost:8080/"
        },
        "id": "lVyxLaJ1j1J_",
        "outputId": "35a5e0c1-ace2-47f4-fdcb-f1a0dfabb62e",
        "vscode": {
          "languageId": "r"
        }
      },
      "outputs": [
        {
          "name": "stderr",
          "output_type": "stream",
          "text": [
            "Loading required package: parallel\n",
            "\n",
            "Loading required package: R.utils\n",
            "\n",
            "Loading required package: R.oo\n",
            "\n",
            "Loading required package: R.methodsS3\n",
            "\n",
            "R.methodsS3 v1.8.2 (2022-06-13 22:00:14 UTC) successfully loaded. See ?R.methodsS3 for help.\n",
            "\n",
            "R.oo v1.27.1 (2025-05-02 21:00:05 UTC) successfully loaded. See ?R.oo for help.\n",
            "\n",
            "\n",
            "Attaching package: ‘R.oo’\n",
            "\n",
            "\n",
            "The following object is masked from ‘package:R.methodsS3’:\n",
            "\n",
            "    throw\n",
            "\n",
            "\n",
            "The following objects are masked from ‘package:methods’:\n",
            "\n",
            "    getClasses, getMethods\n",
            "\n",
            "\n",
            "The following objects are masked from ‘package:base’:\n",
            "\n",
            "    attach, detach, load, save\n",
            "\n",
            "\n",
            "R.utils v2.13.0 (2025-02-24 21:20:02 UTC) successfully loaded. See ?R.utils for help.\n",
            "\n",
            "\n",
            "Attaching package: ‘R.utils’\n",
            "\n",
            "\n",
            "The following object is masked from ‘package:utils’:\n",
            "\n",
            "    timestamp\n",
            "\n",
            "\n",
            "The following objects are masked from ‘package:base’:\n",
            "\n",
            "    cat, commandArgs, getOption, isOpen, nullfile, parse, use, warnings\n",
            "\n",
            "\n",
            "Loading required package: primes\n",
            "\n",
            "Loading required package: rlist\n",
            "\n",
            "Loading required package: yaml\n",
            "\n",
            "Loading required package: lightgbm\n",
            "\n",
            "Loading required package: DiceKriging\n",
            "\n",
            "Loading required package: mlrMBO\n",
            "\n",
            "Loading required package: mlr\n",
            "\n",
            "Loading required package: ParamHelpers\n",
            "\n",
            "\n",
            "Attaching package: ‘ParamHelpers’\n",
            "\n",
            "\n",
            "The following object is masked from ‘package:R.utils’:\n",
            "\n",
            "    isVector\n",
            "\n",
            "\n",
            "\n",
            "Attaching package: ‘mlr’\n",
            "\n",
            "\n",
            "The following objects are masked from ‘package:R.utils’:\n",
            "\n",
            "    resample, setThreshold\n",
            "\n",
            "\n",
            "Loading required package: smoof\n",
            "\n",
            "Loading required package: checkmate\n",
            "\n",
            "\n",
            "Attaching package: ‘checkmate’\n",
            "\n",
            "\n",
            "The following object is masked from ‘package:DiceKriging’:\n",
            "\n",
            "    checkNames\n",
            "\n",
            "\n",
            "The following object is masked from ‘package:R.utils’:\n",
            "\n",
            "    asInt\n",
            "\n",
            "\n",
            "\n",
            "Attaching package: ‘smoof’\n",
            "\n",
            "\n",
            "The following objects are masked from ‘package:R.oo’:\n",
            "\n",
            "    getDescription, getName\n",
            "\n",
            "\n"
          ]
        }
      ],
      "source": [
        "# cargo las librerias que necesito\n",
        "require(\"data.table\")\n",
        "require(\"parallel\")\n",
        "\n",
        "if(!require(\"R.utils\")) install.packages(\"R.utils\")\n",
        "require(\"R.utils\")\n",
        "\n",
        "if( !require(\"primes\") ) install.packages(\"primes\")\n",
        "require(\"primes\")\n",
        "\n",
        "if( !require(\"utils\") ) install.packages(\"utils\")\n",
        "require(\"utils\")\n",
        "\n",
        "if( !require(\"rlist\") ) install.packages(\"rlist\")\n",
        "require(\"rlist\")\n",
        "\n",
        "if( !require(\"yaml\")) install.packages(\"yaml\")\n",
        "require(\"yaml\")\n",
        "\n",
        "if( !require(\"lightgbm\") ) install.packages(\"lightgbm\")\n",
        "require(\"lightgbm\")\n",
        "\n",
        "if( !require(\"DiceKriging\") ) install.packages(\"DiceKriging\")\n",
        "require(\"DiceKriging\")\n",
        "\n",
        "if( !require(\"mlrMBO\") ) install.packages(\"mlrMBO\")\n",
        "require(\"mlrMBO\")"
      ]
    },
    {
      "cell_type": "markdown",
      "metadata": {
        "id": "Iz-6Qt6BUaA3"
      },
      "source": [
        "### 2.2.3 Definicion de Parametros"
      ]
    },
    {
      "cell_type": "markdown",
      "metadata": {
        "id": "cOdlKd7lUm2I"
      },
      "source": [
        "aqui debe cargar SU semilla primigenia\n",
        "<br>recuerde cambiar el numero de experimento en cada corrida nueva"
      ]
    },
    {
      "cell_type": "code",
      "execution_count": null,
      "metadata": {
        "id": "ASYkebOu2mF6",
        "vscode": {
          "languageId": "r"
        }
      },
      "outputs": [],
      "source": [
        "PARAM <- list()\n",
        "PARAM$experimento <- 5031\n",
        "PARAM$semilla_primigenia <- 997009\n"
      ]
    },
    {
      "cell_type": "code",
      "execution_count": null,
      "metadata": {
        "id": "ezOhQdbA293o",
        "vscode": {
          "languageId": "r"
        }
      },
      "outputs": [],
      "source": [
        "# training y future\n",
        "PARAM$train <- c(202101, 202102, 202103)\n",
        "PARAM$train_final <- c(202101, 202102, 202103) # Entrenamos HASTA MARZO\n",
        "PARAM$future <- c(202104)\n",
        "PARAM$semilla_kaggle <- 314159\n",
        "PARAM$cortes <- seq(6000, 19000, by= 500)"
      ]
    },
    {
      "cell_type": "code",
      "execution_count": null,
      "metadata": {
        "id": "jtB0Lub42rHO",
        "vscode": {
          "languageId": "r"
        }
      },
      "outputs": [],
      "source": [
        "# un undersampling de 0.1  toma solo el 10% de los CONTINUA\n",
        "# undersampling de 1.0  implica tomar TODOS los datos\n",
        "\n",
        "PARAM$trainingstrategy$undersampling <- 0.25"
      ]
    },
    {
      "cell_type": "code",
      "execution_count": null,
      "metadata": {
        "id": "OFxm-xiNUOJX",
        "vscode": {
          "languageId": "r"
        }
      },
      "outputs": [],
      "source": [
        "# Parametros LightGBM\n",
        "\n",
        "PARAM$hyperparametertuning$xval_folds <- 5\n",
        "\n",
        "# parametros fijos del LightGBM que se pisaran con la parte variable de la BO\n",
        "PARAM$lgbm$param_fijos <-  list(\n",
        "  boosting= \"gbdt\", # puede ir  dart  , ni pruebe random_forest\n",
        "  objective= \"binary\",\n",
        "  metric= \"auc\",\n",
        "  first_metric_only= FALSE,\n",
        "  boost_from_average= TRUE,\n",
        "  feature_pre_filter= FALSE,\n",
        "  force_row_wise= TRUE, # para reducir warnings\n",
        "  verbosity= -100,\n",
        "\n",
        "  seed= PARAM$semilla_primigenia,\n",
        "\n",
        "  max_depth= -1L, # -1 significa no limitar,  por ahora lo dejo fijo\n",
        "  min_gain_to_split= 0, # min_gain_to_split >= 0\n",
        "  min_sum_hessian_in_leaf= 0.001, #  min_sum_hessian_in_leaf >= 0.0\n",
        "  lambda_l1= 0.0, # lambda_l1 >= 0.0\n",
        "  lambda_l2= 0.0, # lambda_l2 >= 0.0\n",
        "  max_bin= 31L, # lo debo dejar fijo, no participa de la BO\n",
        "\n",
        "  bagging_fraction= 1.0, # 0.0 < bagging_fraction <= 1.0\n",
        "  pos_bagging_fraction= 1.0, # 0.0 < pos_bagging_fraction <= 1.0\n",
        "  neg_bagging_fraction= 1.0, # 0.0 < neg_bagging_fraction <= 1.0\n",
        "  is_unbalance= FALSE, #\n",
        "  scale_pos_weight= 1.0, # scale_pos_weight > 0.0\n",
        "\n",
        "  drop_rate= 0.1, # 0.0 < neg_bagging_fraction <= 1.0\n",
        "  max_drop= 50, # <=0 means no limit\n",
        "  skip_drop= 0.5, # 0.0 <= skip_drop <= 1.0\n",
        "\n",
        "  extra_trees= FALSE,\n",
        "\n",
        "  num_iterations= 1200,\n",
        "  learning_rate= 0.02,\n",
        "  feature_fraction= 0.5,\n",
        "  num_leaves= 750,\n",
        "  min_data_in_leaf= 5000\n",
        ")\n"
      ]
    },
    {
      "cell_type": "markdown",
      "metadata": {
        "id": "D5Yj-JV4yvOt"
      },
      "source": [
        "Aqui se definen los hiperparámetros de LightGBM que participan de la Bayesian Optimization\n",
        "<br> si es un numero entero debe ir  makeIntegerParam\n",
        "<br> si es un numero real (con decimales) debe ir  makeNumericParam\n",
        "<br> es muy importante leer cuales son un lower y upper  permitidos y ademas razonables"
      ]
    },
    {
      "cell_type": "code",
      "execution_count": null,
      "metadata": {
        "id": "BJBRiMjYr9I-",
        "vscode": {
          "languageId": "r"
        }
      },
      "outputs": [],
      "source": [
        "# Aqui se cargan los bordes de los hiperparametros para la Optimización Bayesiana\n",
        "PARAM$hypeparametertuning$hs <- makeParamSet(\n",
        "\n",
        "  # Principales para controlar la complejidad y el sobreajuste\n",
        "  makeIntegerParam(\"num_leaves\",        lower= 8L,   upper= 1024L),\n",
        "  makeIntegerParam(\"min_data_in_leaf\",  lower= 2L,  upper= 8000L),\n",
        "  makeIntegerParam(\"max_depth\",         lower= 3L,    upper= 15L),\n",
        "\n",
        "  # Para la robustez del modelo (introducen aleatoriedad)\n",
        "  makeNumericParam(\"feature_fraction\",  lower= 0.2,   upper= 1.0),\n",
        "  makeNumericParam(\"bagging_fraction\",  lower= 0.5,   upper= 1.0),\n",
        "\n",
        "  # Para el proceso de boosting\n",
        "  makeNumericParam(\"learning_rate\",     lower= 0.01,  upper= 0.1), # Asegurándose de que esté solo una vez\n",
        "  makeIntegerParam(\"num_iterations\",    lower= 100L,  upper= 2000L),\n",
        "\n",
        "  makeNumericParam(\"min_gain_to_split\", lower= 0.0,   upper= 2.0)\n",
        ")"
      ]
    },
    {
      "cell_type": "markdown",
      "metadata": {
        "id": "-_RPFUb3zMoW"
      },
      "source": [
        "A mayor cantidad de hiperparámetros, se debe aumentar las iteraciones de la Bayesian Optimization\n",
        "<br> 30 es un valor muy tacaño, pero corre rápido\n",
        "<br> deberia partir de 50, alcanzando los 100 si se dispone de tiempo"
      ]
    },
    {
      "cell_type": "code",
      "execution_count": null,
      "metadata": {
        "id": "q5Rd3pnbzSiG",
        "vscode": {
          "languageId": "r"
        }
      },
      "outputs": [],
      "source": [
        "PARAM$hyperparametertuning$iteraciones <- 65 # iteraciones bayesianas"
      ]
    },
    {
      "cell_type": "code",
      "execution_count": null,
      "metadata": {
        "id": "or53-q3bmE5d",
        "vscode": {
          "languageId": "r"
        }
      },
      "outputs": [],
      "source": [
        "# particionar agrega una columna llamada fold a un dataset\n",
        "#   que consiste en una particion estratificada segun agrupa\n",
        "# particionar( data=dataset, division=c(70,30),\n",
        "#  agrupa=clase_ternaria, seed=semilla)   crea una particion 70, 30\n",
        "\n",
        "particionar <- function(data, division, agrupa= \"\", campo= \"fold\", start= 1, seed= NA) {\n",
        "  if (!is.na(seed)) set.seed(seed, \"L'Ecuyer-CMRG\")\n",
        "\n",
        "  bloque <- unlist(mapply(\n",
        "    function(x, y) {rep(y, x)},division, seq(from= start, length.out= length(division))))\n",
        "\n",
        "  data[, (campo) := sample(rep(bloque,ceiling(.N / length(bloque))))[1:.N],by= agrupa]\n",
        "}"
      ]
    },
    {
      "cell_type": "code",
      "execution_count": null,
      "metadata": {
        "id": "CGKOZ9aMmKxi",
        "vscode": {
          "languageId": "r"
        }
      },
      "outputs": [],
      "source": [
        "# iniciliazo el dataset de realidad, para medir ganancia\n",
        "realidad_inicializar <- function( pfuture, pparam) {\n",
        "\n",
        "  # datos para verificar la ganancia\n",
        "  drealidad <- pfuture[, list(numero_de_cliente, foto_mes, clase_ternaria)]\n",
        "\n",
        "  particionar(drealidad,\n",
        "    division= c(3, 7),\n",
        "    agrupa= \"clase_ternaria\",\n",
        "    seed= PARAM$semilla_kaggle\n",
        "  )\n",
        "\n",
        "  return( drealidad )\n",
        "}"
      ]
    },
    {
      "cell_type": "code",
      "execution_count": null,
      "metadata": {
        "id": "6aVLFlEbmM3s",
        "vscode": {
          "languageId": "r"
        }
      },
      "outputs": [],
      "source": [
        "# evaluo ganancia en los datos de la realidad\n",
        "\n",
        "realidad_evaluar <- function( prealidad, pprediccion) {\n",
        "\n",
        "  prealidad[ pprediccion,\n",
        "    on= c(\"numero_de_cliente\", \"foto_mes\"),\n",
        "    predicted:= i.Predicted\n",
        "  ]\n",
        "\n",
        "  tbl <- prealidad[, list(\"qty\"=.N), list(fold, predicted, clase_ternaria)]\n",
        "\n",
        "  res <- list()\n",
        "  res$public  <- tbl[fold==1 & predicted==1L, sum(qty*ifelse(clase_ternaria==\"BAJA+2\", 780000, -20000))]/0.3\n",
        "  res$private <- tbl[fold==2 & predicted==1L, sum(qty*ifelse(clase_ternaria==\"BAJA+2\", 780000, -20000))]/0.7\n",
        "  res$total <- tbl[predicted==1L, sum(qty*ifelse(clase_ternaria==\"BAJA+2\", 780000, -20000))]\n",
        "\n",
        "  prealidad[, predicted:=NULL]\n",
        "  return( res )\n",
        "}"
      ]
    },
    {
      "cell_type": "markdown",
      "metadata": {
        "id": "4RWZXL1VZjMI"
      },
      "source": [
        "### 2.2.4  Preprocesamiento"
      ]
    },
    {
      "cell_type": "code",
      "execution_count": null,
      "metadata": {
        "id": "j3toG9-lZm4K",
        "vscode": {
          "languageId": "r"
        }
      },
      "outputs": [],
      "source": [
        "# carpeta de trabajo\n",
        "\n",
        "setwd(\"/content/buckets/b1/exp\")\n",
        "experimento_folder <- paste0(\"HT\", PARAM$experimento)\n",
        "dir.create(experimento_folder, showWarnings=FALSE)\n",
        "setwd( paste0(\"/content/buckets/b1/exp/\", experimento_folder ))"
      ]
    },
    {
      "cell_type": "code",
      "execution_count": null,
      "metadata": {
        "id": "FM3lxKoLZ643",
        "vscode": {
          "languageId": "r"
        }
      },
      "outputs": [],
      "source": [
        "# lectura del dataset\n",
        "dataset <- fread(\"~/dmeyf2025/src/ensembles/competencia_01_FE_V2.csv.gz\", stringsAsFactors= TRUE)"
      ]
    },
    {
      "cell_type": "code",
      "execution_count": null,
      "metadata": {
        "id": "OsJ-91UeZ-I_",
        "vscode": {
          "languageId": "r"
        }
      },
      "outputs": [],
      "source": [
        "dataset_train <- dataset[foto_mes %in% PARAM$train]"
      ]
    },
    {
      "cell_type": "code",
      "execution_count": null,
      "metadata": {
        "id": "vrWE7BE0aB2J",
        "vscode": {
          "languageId": "r"
        }
      },
      "outputs": [],
      "source": [
        "# paso la clase a binaria que tome valores {0,1}  enteros\n",
        "#  BAJA+1 y BAJA+2  son  1,   CONTINUA es 0\n",
        "#  a partir de ahora ya NO puedo cortar  por prob(BAJA+2) > 1/40\n",
        "\n",
        "dataset_train[,\n",
        "  clase01 := ifelse(clase_ternaria %in% c(\"BAJA+2\",\"BAJA+1\"), 1L, 0L)\n",
        "]"
      ]
    },
    {
      "cell_type": "code",
      "execution_count": null,
      "metadata": {
        "id": "jP7YlQBnaW6W",
        "vscode": {
          "languageId": "r"
        }
      },
      "outputs": [],
      "source": [
        "# defino los datos que forma parte del training\n",
        "# aqui se hace el undersampling de los CONTINUA\n",
        "# notar que para esto utilizo la SEGUNDA semilla\n",
        "\n",
        "set.seed(PARAM$semilla_primigenia, kind = \"L'Ecuyer-CMRG\")\n",
        "dataset_train[, azar := runif(nrow(dataset_train))]\n",
        "dataset_train[, training := 0L]\n",
        "\n",
        "dataset_train[\n",
        "  foto_mes %in%  PARAM$train &\n",
        "    (azar <= PARAM$trainingstrategy$undersampling | clase_ternaria %in% c(\"BAJA+1\", \"BAJA+2\")),\n",
        "  training := 1L\n",
        "]"
      ]
    },
    {
      "cell_type": "code",
      "execution_count": null,
      "metadata": {
        "id": "xElu4s5W4rX7",
        "vscode": {
          "languageId": "r"
        }
      },
      "outputs": [],
      "source": [
        "# los campos que se van a utilizar\n",
        "\n",
        "campos_buenos <- setdiff(\n",
        "  colnames(dataset_train),\n",
        "  c(\"clase_ternaria\", \"clase01\", \"azar\", \"training\")\n",
        ")"
      ]
    },
    {
      "cell_type": "code",
      "execution_count": null,
      "metadata": {
        "colab": {
          "base_uri": "https://localhost:8080/",
          "height": 52
        },
        "id": "PppMHcGYaaol",
        "outputId": "252418f8-bd0f-4d94-ccca-77488ba35a4e",
        "vscode": {
          "languageId": "r"
        }
      },
      "outputs": [
        {
          "data": {
            "text/html": [
              "125802"
            ],
            "text/latex": [
              "125802"
            ],
            "text/markdown": [
              "125802"
            ],
            "text/plain": [
              "[1] 125802"
            ]
          },
          "metadata": {},
          "output_type": "display_data"
        },
        {
          "data": {
            "text/html": [
              "756"
            ],
            "text/latex": [
              "756"
            ],
            "text/markdown": [
              "756"
            ],
            "text/plain": [
              "[1] 756"
            ]
          },
          "metadata": {},
          "output_type": "display_data"
        }
      ],
      "source": [
        "# dejo los datos en el formato que necesita LightGBM\n",
        "\n",
        "dtrain <- lgb.Dataset(\n",
        "  data= data.matrix(dataset_train[training == 1L, campos_buenos, with= FALSE]),\n",
        "  label= dataset_train[training == 1L, clase01],\n",
        "  free_raw_data= FALSE\n",
        ")\n",
        "\n",
        "nrow(dtrain)\n",
        "ncol(dtrain)"
      ]
    },
    {
      "cell_type": "markdown",
      "metadata": {
        "id": "Ta-EkOu3cphF"
      },
      "source": [
        "2.2.5 Configuracion Bayesian Optimization"
      ]
    },
    {
      "cell_type": "code",
      "execution_count": null,
      "metadata": {
        "id": "cjgfurjdfiXb",
        "vscode": {
          "languageId": "r"
        }
      },
      "outputs": [],
      "source": [
        "# En el argumento x llegan los parmaetros de la bayesiana\n",
        "#  devuelve la AUC en cross validation del modelo entrenado\n",
        "\n",
        "EstimarGanancia_AUC_lightgbm <- function(x) {\n",
        "\n",
        "  # x pisa (o agrega) a param_fijos\n",
        "  param_completo <- modifyList(PARAM$lgbm$param_fijos, x)\n",
        "\n",
        "  # entreno LightGBM\n",
        "  modelocv <- lgb.cv(\n",
        "    data= dtrain,\n",
        "    nfold= PARAM$hyperparametertuning$xval_folds,\n",
        "    stratified= TRUE,\n",
        "    param= param_completo\n",
        "  )\n",
        "\n",
        "  # obtengo la ganancia\n",
        "  AUC <- modelocv$best_score\n",
        "\n",
        "  # hago espacio en la memoria\n",
        "  rm(modelocv)\n",
        "  gc(full= TRUE, verbose= FALSE)\n",
        "\n",
        "  message(format(Sys.time(), \"%a %b %d %X %Y\"), \" AUC \", AUC)\n",
        "\n",
        "  return(AUC)\n",
        "}"
      ]
    },
    {
      "cell_type": "code",
      "execution_count": null,
      "metadata": {
        "id": "WLi_o1hocvN-",
        "vscode": {
          "languageId": "r"
        }
      },
      "outputs": [],
      "source": [
        "# Aqui comienza la configuracion de la Bayesian Optimization\n",
        "\n",
        "# en este archivo quedan la evolucion binaria de la BO\n",
        "kbayesiana <- \"bayesiana.RDATA\"\n",
        "\n",
        "funcion_optimizar <- EstimarGanancia_AUC_lightgbm # la funcion que voy a maximizar\n",
        "\n",
        "configureMlr(show.learner.output= FALSE)\n",
        "\n",
        "# configuro la busqueda bayesiana,  los hiperparametros que se van a optimizar\n",
        "# por favor, no desesperarse por lo complejo\n",
        "\n",
        "obj.fun <- makeSingleObjectiveFunction(\n",
        "  fn= funcion_optimizar, # la funcion que voy a maximizar\n",
        "  minimize= FALSE, # estoy Maximizando la ganancia\n",
        "  noisy= TRUE,\n",
        "  par.set= PARAM$hypeparametertuning$hs, # definido al comienzo del programa\n",
        "  has.simple.signature= FALSE # paso los parametros en una lista\n",
        ")\n",
        "\n",
        "# cada 600 segundos guardo el resultado intermedio\n",
        "ctrl <- makeMBOControl(\n",
        "  save.on.disk.at.time= 600, # se graba cada 600 segundos\n",
        "  save.file.path= kbayesiana\n",
        ") # se graba cada 600 segundos\n",
        "\n",
        "# indico la cantidad de iteraciones que va a tener la Bayesian Optimization\n",
        "ctrl <- setMBOControlTermination(\n",
        "  ctrl,\n",
        "  iters= PARAM$hyperparametertuning$iteraciones\n",
        ") # cantidad de iteraciones\n",
        "\n",
        "# defino el método estandar para la creacion de los puntos iniciales,\n",
        "# los \"No Inteligentes\"\n",
        "ctrl <- setMBOControlInfill(ctrl, crit= makeMBOInfillCritEI())\n",
        "\n",
        "# establezco la funcion que busca el maximo\n",
        "surr.km <- makeLearner(\n",
        "  \"regr.km\",\n",
        "  predict.type= \"se\",\n",
        "  covtype= \"matern3_2\",\n",
        "  control= list(trace= TRUE)\n",
        ")\n"
      ]
    },
    {
      "cell_type": "markdown",
      "metadata": {
        "id": "_uUeVo5pc4zc"
      },
      "source": [
        "2.2.6 Corrida Bayesian Optimization"
      ]
    },
    {
      "cell_type": "code",
      "execution_count": null,
      "metadata": {
        "colab": {
          "base_uri": "https://localhost:8080/"
        },
        "id": "RcABNaKGciaz",
        "outputId": "b3c7dd2e-dee1-41e8-f91b-c059b5382933",
        "vscode": {
          "languageId": "r"
        }
      },
      "outputs": [
        {
          "name": "stderr",
          "output_type": "stream",
          "text": [
            "Warning message in mboContinue(kbayesiana):\n",
            "“Tuning ended with term.iter. No need to continue. Simply returning stored result.”\n"
          ]
        }
      ],
      "source": [
        "# inicio la optimizacion bayesiana, retomando si ya existe\n",
        "# es la celda mas lenta de todo el notebook\n",
        "\n",
        "if (!file.exists(kbayesiana)) {\n",
        "  bayesiana_salida <- mbo(obj.fun, learner= surr.km, control= ctrl)\n",
        "} else {\n",
        "  bayesiana_salida <- mboContinue(kbayesiana) # retomo en caso que ya exista\n",
        "}"
      ]
    },
    {
      "cell_type": "code",
      "execution_count": null,
      "metadata": {
        "colab": {
          "base_uri": "https://localhost:8080/",
          "height": 52
        },
        "id": "ssk5nnMk6INK",
        "outputId": "212b8fc6-f828-4fd0-fed4-89c92ee27669",
        "vscode": {
          "languageId": "r"
        }
      },
      "outputs": [
        {
          "data": {
            "text/html": [
              "<style>\n",
              ".list-inline {list-style: none; margin:0; padding: 0}\n",
              ".list-inline>li {display: inline-block}\n",
              ".list-inline>li:not(:last-child)::after {content: \"\\00b7\"; padding: 0 .5ex}\n",
              "</style>\n",
              "<ol class=list-inline><li>'num_leaves'</li><li>'min_data_in_leaf'</li><li>'max_depth'</li><li>'feature_fraction'</li><li>'bagging_fraction'</li><li>'learning_rate'</li><li>'num_iterations'</li><li>'min_gain_to_split'</li><li>'y'</li><li>'dob'</li><li>'eol'</li><li>'error.message'</li><li>'exec.time'</li><li>'ei'</li><li>'error.model'</li><li>'train.time'</li><li>'prop.type'</li><li>'propose.time'</li><li>'se'</li><li>'mean'</li></ol>\n"
            ],
            "text/latex": [
              "\\begin{enumerate*}\n",
              "\\item 'num\\_leaves'\n",
              "\\item 'min\\_data\\_in\\_leaf'\n",
              "\\item 'max\\_depth'\n",
              "\\item 'feature\\_fraction'\n",
              "\\item 'bagging\\_fraction'\n",
              "\\item 'learning\\_rate'\n",
              "\\item 'num\\_iterations'\n",
              "\\item 'min\\_gain\\_to\\_split'\n",
              "\\item 'y'\n",
              "\\item 'dob'\n",
              "\\item 'eol'\n",
              "\\item 'error.message'\n",
              "\\item 'exec.time'\n",
              "\\item 'ei'\n",
              "\\item 'error.model'\n",
              "\\item 'train.time'\n",
              "\\item 'prop.type'\n",
              "\\item 'propose.time'\n",
              "\\item 'se'\n",
              "\\item 'mean'\n",
              "\\end{enumerate*}\n"
            ],
            "text/markdown": [
              "1. 'num_leaves'\n",
              "2. 'min_data_in_leaf'\n",
              "3. 'max_depth'\n",
              "4. 'feature_fraction'\n",
              "5. 'bagging_fraction'\n",
              "6. 'learning_rate'\n",
              "7. 'num_iterations'\n",
              "8. 'min_gain_to_split'\n",
              "9. 'y'\n",
              "10. 'dob'\n",
              "11. 'eol'\n",
              "12. 'error.message'\n",
              "13. 'exec.time'\n",
              "14. 'ei'\n",
              "15. 'error.model'\n",
              "16. 'train.time'\n",
              "17. 'prop.type'\n",
              "18. 'propose.time'\n",
              "19. 'se'\n",
              "20. 'mean'\n",
              "\n",
              "\n"
            ],
            "text/plain": [
              " [1] \"num_leaves\"        \"min_data_in_leaf\"  \"max_depth\"        \n",
              " [4] \"feature_fraction\"  \"bagging_fraction\"  \"learning_rate\"    \n",
              " [7] \"num_iterations\"    \"min_gain_to_split\" \"y\"                \n",
              "[10] \"dob\"               \"eol\"               \"error.message\"    \n",
              "[13] \"exec.time\"         \"ei\"                \"error.model\"      \n",
              "[16] \"train.time\"        \"prop.type\"         \"propose.time\"     \n",
              "[19] \"se\"                \"mean\"             "
            ]
          },
          "metadata": {},
          "output_type": "display_data"
        }
      ],
      "source": [
        "\n",
        "tb_bayesiana <- as.data.table(bayesiana_salida$opt.path)\n",
        "colnames( tb_bayesiana)"
      ]
    },
    {
      "cell_type": "code",
      "execution_count": null,
      "metadata": {
        "id": "u4zq-vknhjGc",
        "vscode": {
          "languageId": "r"
        }
      },
      "outputs": [],
      "source": [
        "# almaceno los resultados de la Bayesian Optimization\n",
        "# y capturo los mejores hiperparametros encontrados\n",
        "\n",
        "tb_bayesiana <- as.data.table(bayesiana_salida$opt.path)\n",
        "\n",
        "tb_bayesiana[, iter := .I]\n",
        "\n",
        "# ordeno en forma descendente por AUC = y\n",
        "setorder(tb_bayesiana, -y)\n",
        "\n",
        "# grabo para eventualmente poder utilizarlos en OTRA corrida\n",
        "fwrite( tb_bayesiana,\n",
        "  file= \"BO_log.txt\",\n",
        "  sep= \"\\t\"\n",
        ")\n",
        "\n",
        "# los mejores hiperparámetros son los que quedaron en el registro 1 de la tabla\n",
        "PARAM$out$lgbm$mejores_hiperparametros <- tb_bayesiana[\n",
        "  1, # el primero es el de mejor AUC\n",
        "  setdiff(colnames(tb_bayesiana),\n",
        "    c(\"y\",49)),\n",
        "  with= FALSE\n",
        "]\n",
        "\n",
        "\n",
        "PARAM$out$lgbm$y <- tb_bayesiana[1, y]\n"
      ]
    },
    {
      "cell_type": "code",
      "execution_count": null,
      "metadata": {
        "id": "E8v2eA427N8e",
        "vscode": {
          "languageId": "r"
        }
      },
      "outputs": [],
      "source": [
        "write_yaml( PARAM, file=\"PARAM.yml\")"
      ]
    },
    {
      "cell_type": "code",
      "execution_count": null,
      "metadata": {
        "colab": {
          "base_uri": "https://localhost:8080/"
        },
        "id": "iBTWexVU7PGC",
        "outputId": "f60584fd-5e4d-4965-8d8d-51b9b0971934",
        "vscode": {
          "languageId": "r"
        }
      },
      "outputs": [
        {
          "name": "stdout",
          "output_type": "stream",
          "text": [
            "   num_leaves min_data_in_leaf max_depth feature_fraction bagging_fraction\n",
            "        <int>            <int>     <int>            <num>            <num>\n",
            "1:        180              293        15        0.2176118         0.742878\n",
            "   learning_rate num_iterations min_gain_to_split   dob   eol error.message\n",
            "           <num>          <int>             <num> <int> <int>        <char>\n",
            "1:    0.01002797           1297          1.648119    56    NA          <NA>\n",
            "   exec.time            ei error.model train.time prop.type propose.time\n",
            "       <num>         <num>      <char>      <num>    <char>        <num>\n",
            "1:   366.766 -5.300342e-05        <NA>      0.299 infill_ei        1.169\n",
            "             se      mean  iter\n",
            "          <num>     <num> <int>\n",
            "1: 0.0005616031 0.9334911    88\n",
            "[1] 0.9345419\n"
          ]
        }
      ],
      "source": [
        "print(PARAM$out$lgbm$mejores_hiperparametros)\n",
        "print(PARAM$out$lgbm$y)"
      ]
    },
    {
      "cell_type": "markdown",
      "metadata": {
        "id": "TKsVZmAnhwX-"
      },
      "source": [
        "## 2.3  Validacion"
      ]
    },
    {
      "cell_type": "markdown",
      "metadata": {
        "id": "RQ_C33Tr5B_9"
      },
      "source": [
        "### Training Validacion\n",
        "Construyo el modelo final, que es uno solo, no hace ningun tipo de particion < training, validation, testing>]"
      ]
    },
    {
      "cell_type": "code",
      "execution_count": null,
      "metadata": {
        "id": "eDqfyA14hzwv",
        "vscode": {
          "languageId": "r"
        }
      },
      "outputs": [],
      "source": [
        "setwd(\"/content/buckets/b1/exp\")\n",
        "experimento <- paste0(\"exp\", PARAM$experimento)\n",
        "dir.create(experimento, showWarnings= FALSE)\n",
        "setwd( paste0(\"/content/buckets/b1/exp/\", experimento ))"
      ]
    },
    {
      "cell_type": "code",
      "execution_count": null,
      "metadata": {
        "id": "NCQIr3o31i1m",
        "vscode": {
          "languageId": "r"
        }
      },
      "outputs": [],
      "source": [
        "# --- INICIO: SCRIPT DE ENSAMBLE PARA VALIDACIÓN EN ABRIL ---\n",
        "\n",
        "# 1. Define las 5 semillas \"maestras\" para el ensamble\n",
        "semillas_ensemble <- c (990023, 990013, 990053, 990083, 997009,990103, 991117, 993109, 995107, 996133)\n",
        "\n",
        "# 2. Configura los PARÁMETROS para esta validación específica\n",
        "PARAM$train_final <- c(202101, 202102) # Entrenamos con Ene y Feb\n",
        "PARAM$future      <- c(202104)       # Validamos en Abril"
      ]
    },
    {
      "cell_type": "code",
      "execution_count": null,
      "metadata": {
        "id": "Fde4H7Iqno1g",
        "outputId": "9e724502-39e6-4fb4-aa5a-f8d075d98509",
        "vscode": {
          "languageId": "r"
        }
      },
      "outputs": [
        {
          "data": {
            "text/html": [
              "0.25"
            ],
            "text/latex": [
              "0.25"
            ],
            "text/markdown": [
              "0.25"
            ],
            "text/plain": [
              "[1] 0.25"
            ]
          },
          "metadata": {},
          "output_type": "display_data"
        }
      ],
      "source": [
        "PARAM$trainingstrategy$undersampling"
      ]
    },
    {
      "cell_type": "code",
      "execution_count": null,
      "metadata": {
        "id": "lg5WVZncvc7H",
        "vscode": {
          "languageId": "r"
        }
      },
      "outputs": [],
      "source": [
        "# clase01\n",
        "dataset[, clase01 := ifelse(clase_ternaria %in% c(\"BAJA+1\", \"BAJA+2\"), 1L, 0L)]"
      ]
    },
    {
      "cell_type": "code",
      "execution_count": null,
      "metadata": {
        "colab": {
          "base_uri": "https://localhost:8080/",
          "height": 192
        },
        "id": "yc9QzXREv0xf",
        "outputId": "be781057-3786-46c5-d77b-86d1f0dac6e9",
        "vscode": {
          "languageId": "r"
        }
      },
      "outputs": [
        {
          "data": {
            "text/html": [
              "<table class=\"dataframe\">\n",
              "<caption>A data.table: 3 × 2</caption>\n",
              "<thead>\n",
              "\t<tr><th scope=col>clase_ternaria</th><th scope=col>N</th></tr>\n",
              "\t<tr><th scope=col>&lt;fct&gt;</th><th scope=col>&lt;int&gt;</th></tr>\n",
              "</thead>\n",
              "<tbody>\n",
              "\t<tr><td>CONTINUA</td><td>320372</td></tr>\n",
              "\t<tr><td>BAJA+2  </td><td>  1857</td></tr>\n",
              "\t<tr><td>BAJA+1  </td><td>  1453</td></tr>\n",
              "</tbody>\n",
              "</table>\n"
            ],
            "text/latex": [
              "A data.table: 3 × 2\n",
              "\\begin{tabular}{ll}\n",
              " clase\\_ternaria & N\\\\\n",
              " <fct> & <int>\\\\\n",
              "\\hline\n",
              "\t CONTINUA & 320372\\\\\n",
              "\t BAJA+2   &   1857\\\\\n",
              "\t BAJA+1   &   1453\\\\\n",
              "\\end{tabular}\n"
            ],
            "text/markdown": [
              "\n",
              "A data.table: 3 × 2\n",
              "\n",
              "| clase_ternaria &lt;fct&gt; | N &lt;int&gt; |\n",
              "|---|---|\n",
              "| CONTINUA | 320372 |\n",
              "| BAJA+2   |   1857 |\n",
              "| BAJA+1   |   1453 |\n",
              "\n"
            ],
            "text/plain": [
              "  clase_ternaria N     \n",
              "1 CONTINUA       320372\n",
              "2 BAJA+2           1857\n",
              "3 BAJA+1           1453"
            ]
          },
          "metadata": {},
          "output_type": "display_data"
        }
      ],
      "source": [
        "dataset_train <- dataset[foto_mes %in% PARAM$train_final]\n",
        "dataset_train[,.N,clase_ternaria]"
      ]
    },
    {
      "cell_type": "code",
      "execution_count": null,
      "metadata": {
        "id": "C_zr-C3k6L5M",
        "vscode": {
          "languageId": "r"
        }
      },
      "outputs": [],
      "source": [
        "dfuture <- dataset[foto_mes %in% PARAM$future]"
      ]
    },
    {
      "cell_type": "code",
      "execution_count": null,
      "metadata": {
        "id": "0a_7asi26QSS",
        "vscode": {
          "languageId": "r"
        }
      },
      "outputs": [],
      "source": [
        "archivo_progreso <- \"ensemble_predicciones_temp.csv\"\n",
        "\n",
        "# --- NUEVO: Cargamos el progreso si el archivo ya existe ---\n",
        "if (file.exists(archivo_progreso)) {\n",
        "  predicciones_ensemble <- fread(archivo_progreso)\n",
        "} else {\n",
        "  predicciones_ensemble <- dfuture[, .(numero_de_cliente, foto_mes)]\n",
        "}\n",
        "\n",
        "campos_buenos <- setdiff(colnames(dataset), c(\"clase_ternaria\", \"clase01\", \"azar\", \"training\"))\n"
      ]
    },
    {
      "cell_type": "code",
      "execution_count": null,
      "metadata": {
        "id": "thjdqEBLuvNt",
        "vscode": {
          "languageId": "r"
        }
      },
      "outputs": [],
      "source": [
        "# dejo los datos en el formato que necesita LightGBM\n",
        "\n",
        "dtrain_final <- lgb.Dataset(\n",
        "  data= data.matrix(dataset_train[, campos_buenos, with= FALSE]),\n",
        "  label= dataset_train[, clase01]\n",
        ")"
      ]
    },
    {
      "cell_type": "code",
      "execution_count": null,
      "metadata": {
        "id": "CByRnF54no1h",
        "vscode": {
          "languageId": "r"
        }
      },
      "outputs": [],
      "source": [
        "# lista de importancias\n",
        "lista_importancias <- list()"
      ]
    },
    {
      "cell_type": "code",
      "execution_count": null,
      "metadata": {
        "colab": {
          "base_uri": "https://localhost:8080/"
        },
        "id": "aORYk8RJ6ZCU",
        "outputId": "ff2718fc-4115-4402-bfef-9cfc71c81063",
        "vscode": {
          "languageId": "r"
        }
      },
      "outputs": [
        {
          "name": "stdout",
          "output_type": "stream",
          "text": [
            "Corriendo ensamble para semilla: 990023 \n",
            "Progreso guardado para semilla: 990023 \n",
            "Corriendo ensamble para semilla: 990013 \n",
            "Progreso guardado para semilla: 990013 \n",
            "Corriendo ensamble para semilla: 990053 \n",
            "Progreso guardado para semilla: 990053 \n",
            "Corriendo ensamble para semilla: 990083 \n",
            "Progreso guardado para semilla: 990083 \n",
            "Corriendo ensamble para semilla: 997009 \n",
            "Progreso guardado para semilla: 997009 \n",
            "Corriendo ensamble para semilla: 990103 \n",
            "Progreso guardado para semilla: 990103 \n",
            "Corriendo ensamble para semilla: 991117 \n",
            "Progreso guardado para semilla: 991117 \n",
            "Corriendo ensamble para semilla: 993109 \n",
            "Progreso guardado para semilla: 993109 \n",
            "Corriendo ensamble para semilla: 995107 \n",
            "Progreso guardado para semilla: 995107 \n",
            "Corriendo ensamble para semilla: 996133 \n",
            "Progreso guardado para semilla: 996133 \n",
            "\n",
            "Parámetros finales utilizados en la última iteración (semilla: 996133 ):\n",
            "$boosting\n",
            "[1] \"gbdt\"\n",
            "\n",
            "$objective\n",
            "[1] \"binary\"\n",
            "\n",
            "$metric\n",
            "[1] \"auc\"\n",
            "\n",
            "$first_metric_only\n",
            "[1] FALSE\n",
            "\n",
            "$boost_from_average\n",
            "[1] TRUE\n",
            "\n",
            "$feature_pre_filter\n",
            "[1] FALSE\n",
            "\n",
            "$force_row_wise\n",
            "[1] TRUE\n",
            "\n",
            "$verbosity\n",
            "[1] -100\n",
            "\n",
            "$seed\n",
            "[1] 996133\n",
            "\n",
            "$max_depth\n",
            "[1] 15\n",
            "\n",
            "$min_gain_to_split\n",
            "[1] 1.648119\n",
            "\n",
            "$min_sum_hessian_in_leaf\n",
            "[1] 0.001\n",
            "\n",
            "$lambda_l1\n",
            "[1] 0\n",
            "\n",
            "$lambda_l2\n",
            "[1] 0\n",
            "\n",
            "$max_bin\n",
            "[1] 31\n",
            "\n",
            "$bagging_fraction\n",
            "[1] 0.742878\n",
            "\n",
            "$pos_bagging_fraction\n",
            "[1] 1\n",
            "\n",
            "$neg_bagging_fraction\n",
            "[1] 1\n",
            "\n",
            "$is_unbalance\n",
            "[1] FALSE\n",
            "\n",
            "$scale_pos_weight\n",
            "[1] 1\n",
            "\n",
            "$drop_rate\n",
            "[1] 0.1\n",
            "\n",
            "$max_drop\n",
            "[1] 50\n",
            "\n",
            "$skip_drop\n",
            "[1] 0.5\n",
            "\n",
            "$extra_trees\n",
            "[1] FALSE\n",
            "\n",
            "$num_iterations\n",
            "[1] 1297\n",
            "\n",
            "$learning_rate\n",
            "[1] 0.01002797\n",
            "\n",
            "$feature_fraction\n",
            "[1] 0.2176118\n",
            "\n",
            "$num_leaves\n",
            "[1] 180\n",
            "\n",
            "$min_data_in_leaf\n",
            "[1] 1172\n",
            "\n",
            "$dob\n",
            "[1] 56\n",
            "\n",
            "$eol\n",
            "[1] NA\n",
            "\n",
            "$error.message\n",
            "[1] NA\n",
            "\n",
            "$exec.time\n",
            "[1] 366.766\n",
            "\n",
            "$ei\n",
            "[1] -5.300342e-05\n",
            "\n",
            "$error.model\n",
            "[1] NA\n",
            "\n",
            "$train.time\n",
            "[1] 0.299\n",
            "\n",
            "$prop.type\n",
            "[1] \"infill_ei\"\n",
            "\n",
            "$propose.time\n",
            "[1] 1.169\n",
            "\n",
            "$se\n",
            "[1] 0.0005616031\n",
            "\n",
            "$mean\n",
            "[1] 0.9334911\n",
            "\n",
            "$iter\n",
            "[1] 88\n",
            "\n"
          ]
        }
      ],
      "source": [
        " #3. Bucle principal: entrena y predice para cada semilla\n",
        "for (semilla_actual in semillas_ensemble) {\n",
        "\n",
        "  nombre_col_pred <- paste0(\"pred_\", semilla_actual)\n",
        "\n",
        "  # --- Verificamos si la predicción para esta semilla ya se hizo ---\n",
        "  if (nombre_col_pred %in% colnames(predicciones_ensemble)) {\n",
        "    cat(\"Saltando semilla (ya existe):\", semilla_actual, \"\\n\")\n",
        "    next # Salta a la siguiente iteración del bucle\n",
        "  }\n",
        "\n",
        "  cat(\"Corriendo ensamble para semilla:\", semilla_actual, \"\\n\")\n",
        "\n",
        "  # Preparamos los parámetros para este modelo\n",
        "  param_final <- modifyList(PARAM$lgbm$param_fijos, PARAM$out$lgbm$mejores_hiperparametros)\n",
        "  param_final$seed <- semilla_actual\n",
        "\n",
        "   # Se normaliza el hiperparámetro. Si undersampling es 1.0, no hace nada. Si es otro valor, corrige.\n",
        "  param_final$min_data_in_leaf <- round(param_final$min_data_in_leaf / PARAM$trainingstrategy$undersampling)\n",
        "\n",
        "  modelo <- lgb.train(data = dtrain, param = param_final)\n",
        "\n",
        "  prediccion_actual <- predict(modelo, data.matrix(dfuture[, campos_buenos, with = FALSE]))\n",
        "  predicciones_ensemble[, (nombre_col_pred) := prediccion_actual]\n",
        "\n",
        "  tb_importancia_actual <- as.data.table(lgb.importance(modelo))\n",
        "  lista_importancias[[as.character(semilla_actual)]] <- tb_importancia_actual\n",
        "\n",
        "  # --- Guardamos el progreso en cada iteración ---\n",
        "  fwrite(predicciones_ensemble, archivo_progreso)\n",
        "  cat(\"Progreso guardado para semilla:\", semilla_actual, \"\\n\")\n",
        "}\n",
        "cat(\"\\nParámetros finales utilizados en la última iteración (semilla:\", semilla_actual, \"):\\n\")\n",
        "print(param_final)\n",
        "\n",
        "# 4. Promediamos las predicciones\n",
        "columnas_predicciones <- grep(\"pred_\", colnames(predicciones_ensemble), value = TRUE)\n",
        "predicciones_ensemble[, prob_promedio := rowMeans(.SD), .SDcols = columnas_predicciones]\n"
      ]
    },
    {
      "cell_type": "code",
      "execution_count": null,
      "metadata": {
        "id": "cRZZnWTono1h",
        "outputId": "998da7cd-cfd1-4429-db58-4d0f9c148025",
        "vscode": {
          "languageId": "r"
        }
      },
      "outputs": [
        {
          "name": "stdout",
          "output_type": "stream",
          "text": [
            "\n",
            "\n",
            "--- Importancia de Variables Promediada (Ensamble de 5 Semillas) ---\n",
            "                           Feature importancia_promedio\n",
            "                            <char>                <num>\n",
            "  1:             ctrx_quarter_rank         8.398297e-02\n",
            "  2:             total_gastos_rank         5.620690e-02\n",
            "  3:          mpasivos_margen_rank         5.224084e-02\n",
            "  4:     mpayroll_normalizado_rank         4.760239e-02\n",
            "  5:             cpayroll_trx_rank         3.861934e-02\n",
            " ---                                                   \n",
            "732:    delta1_Visa_cconsumos_rank         4.617265e-06\n",
            "733:  delta2_Visa_mpagominimo_rank         4.194891e-06\n",
            "734:            cpayroll2_trx_rank         3.885128e-06\n",
            "735:          lag1_cforex_buy_rank         3.739398e-06\n",
            "736: delta2_ccuenta_corriente_rank         3.165996e-06\n",
            "\n",
            "Tabla de importancia guardada en 'importancia_promedio.txt'\n"
          ]
        }
      ],
      "source": [
        "# Combinamos todas las tablas de importancia en una sola\n",
        "tb_importancia_total <- rbindlist(lista_importancias, idcol = \"semilla\")\n",
        "\n",
        "# Agrupamos por variable (Feature) y calculamos la importancia promedio (Gain)\n",
        "tb_importancia_promedio <- tb_importancia_total[, .(importancia_promedio = mean(Gain)), by = Feature]\n",
        "\n",
        "# Ordenamos para ver las más importantes primero\n",
        "setorder(tb_importancia_promedio, -importancia_promedio)\n",
        "\n",
        "# Imprimimos el resultado en pantalla\n",
        "cat(\"\\n\\n--- Importancia de Variables Promediada (Ensamble de 5 Semillas) ---\\n\")\n",
        "print(tb_importancia_promedio)\n",
        "\n",
        "# Guardamos la tabla de importancia en un archivo ---\n",
        "fwrite(tb_importancia_promedio,\n",
        "       file = \"importancia_promedio.txt\",\n",
        "       sep = \"\\t\")\n",
        "\n",
        "cat(\"\\nTabla de importancia guardada en 'importancia_promedio.txt'\\n\")"
      ]
    },
    {
      "cell_type": "code",
      "execution_count": null,
      "metadata": {
        "colab": {
          "base_uri": "https://localhost:8080/",
          "height": 263
        },
        "id": "M7TC5xrA6lq1",
        "outputId": "3c97d9fc-a7d6-43d2-a53b-97249a870e50",
        "vscode": {
          "languageId": "r"
        }
      },
      "outputs": [
        {
          "name": "stdout",
          "output_type": "stream",
          "text": [
            "\n",
            "Buscando el punto de corte óptimo en Abril con la predicción promediada...\n",
            "Envios=6000\tTOTAL=344800000\n",
            "Envios=6500\tTOTAL=354800000\n",
            "Envios=7000\tTOTAL=357600000\n",
            "Envios=7500\tTOTAL=362000000\n",
            "Envios=8000\tTOTAL=364800000\n",
            "Envios=8500\tTOTAL=360400000\n",
            "Envios=9000\tTOTAL=360800000\n",
            "Envios=9500\tTOTAL=365200000\n",
            "Envios=10000\tTOTAL=361600000\n",
            "Envios=10500\tTOTAL=360400000\n",
            "Envios=11000\tTOTAL=365600000\n",
            "Envios=11500\tTOTAL=370000000\n",
            "Envios=12000\tTOTAL=366400000\n",
            "Envios=12500\tTOTAL=364400000\n",
            "Envios=13000\tTOTAL=364000000\n",
            "Envios=13500\tTOTAL=360400000\n",
            "Envios=14000\tTOTAL=355200000\n",
            "Envios=14500\tTOTAL=349200000\n",
            "Envios=15000\tTOTAL=351200000\n",
            "Envios=15500\tTOTAL=343600000\n",
            "Envios=16000\tTOTAL=344000000\n",
            "Envios=16500\tTOTAL=342800000\n",
            "Envios=17000\tTOTAL=334400000\n",
            "Envios=17500\tTOTAL=330000000\n",
            "Envios=18000\tTOTAL=323200000\n",
            "Envios=18500\tTOTAL=318000000\n",
            "Envios=19000\tTOTAL=311200000\n"
          ]
        }
      ],
      "source": [
        "# 5. Buscamos el punto de corte óptimo\n",
        "cat(\"\\nBuscando el punto de corte óptimo en Abril con la predicción promediada...\\n\")\n",
        "drealidad <- realidad_inicializar(dfuture, PARAM)\n",
        "for (envios in PARAM$cortes) {\n",
        "  setorder(predicciones_ensemble, -prob_promedio)\n",
        "  predicciones_ensemble[, Predicted := 0L]\n",
        "  predicciones_ensemble[1:envios, Predicted := 1L]\n",
        "  res <- realidad_evaluar(drealidad, predicciones_ensemble)\n",
        "  options(scipen = 999)\n",
        "  cat(\"Envios=\", envios, \"\\t\", \"TOTAL=\", res$total, \"\\n\", sep = \"\")\n",
        "}"
      ]
    },
    {
      "cell_type": "code",
      "execution_count": null,
      "metadata": {
        "colab": {
          "base_uri": "https://localhost:8080/",
          "height": 341
        },
        "id": "ss_o-CZHLL0s",
        "outputId": "a27ca63c-e200-469d-f94f-d09329bba4d5",
        "vscode": {
          "languageId": "r"
        }
      },
      "outputs": [
        {
          "name": "stderr",
          "output_type": "stream",
          "text": [
            "Loading required package: ggplot2\n",
            "\n",
            "Warning message:\n",
            "“\u001b[1m\u001b[22mUsing `size` aesthetic for lines was deprecated in ggplot2 3.4.0.\n",
            "\u001b[36mℹ\u001b[39m Please use `linewidth` instead.”\n"
          ]
        },
        {
          "data": {
            "image/png": "[encoded data removed]",
            "text/plain": [
              "plot without title"
            ]
          },
          "metadata": {
            "image/png": {
              "height": 480,
              "width": 960
            }
          },
          "output_type": "display_data"
        }
      ],
      "source": [
        "# Define el tamaño de la imagen de salida en pulgadas (ancho, alto)\n",
        "options(repr.plot.width = 16, repr.plot.height = 8)\n",
        "\n",
        "\n",
        "# --- INICIO: SCRIPT PARA GRAFICAR CURVAS DE GANANCIA ---\n",
        "\n",
        "require(\"ggplot2\")\n",
        "\n",
        "# 1. Preparamos una tabla para guardar los resultados de todas las curvas\n",
        "curvas_ganancia <- data.table()\n",
        "\n",
        "# 2. Obtenemos los nombres de las columnas de predicción\n",
        "columnas_a_graficar <- c(grep(\"pred_\", colnames(predicciones_ensemble), value = TRUE), \"prob_promedio\")\n",
        "\n",
        "# 3. Calculamos la curva de ganancia para cada columna\n",
        "for (col_pred in columnas_a_graficar) {\n",
        "\n",
        "  nombre_curva <- sub(\"pred_\", \"\", col_pred)\n",
        "  if (col_pred == \"prob_promedio\") nombre_curva <- \"PROMEDIO\"\n",
        "\n",
        "  for (envios in PARAM$cortes) {\n",
        "\n",
        "    setorderv(predicciones_ensemble, cols = col_pred, order = -1)\n",
        "\n",
        "    predicciones_ensemble[, Predicted := 0L]\n",
        "    predicciones_ensemble[1:envios, Predicted := 1L]\n",
        "\n",
        "    res <- realidad_evaluar(drealidad, predicciones_ensemble)\n",
        "\n",
        "    curvas_ganancia <- rbind(curvas_ganancia,\n",
        "                             list(curva = nombre_curva,\n",
        "                                  envios = envios,\n",
        "                                  ganancia = res$total))\n",
        "  }\n",
        "}\n",
        "\n",
        "# 4. Creamos el gráfico con todas las curvas\n",
        "colores <- c(\"PROMEDIO\" = \"black\", setNames(hcl.colors(length(semillas_ensemble), palette = \"viridis\"), semillas_ensemble))\n",
        "tamanos <- c(\"PROMEDIO\" = 1.2, setNames(rep(0.6, length(semillas_ensemble)), semillas_ensemble))\n",
        "\n",
        "grafico_curvas <- ggplot(curvas_ganancia, aes(x = envios, y = ganancia, color = curva, size = curva)) +\n",
        "  geom_line() +\n",
        "  scale_color_manual(values = colores) +\n",
        "  scale_size_manual(values = tamanos) +\n",
        "  labs(title = \"Curvas de Ganancia por Semilla y Promedio del Ensamble\",\n",
        "       subtitle = \"Evaluación sobre el mes de Abril\",\n",
        "       x = \"Cantidad de Envíos (clientes)\",\n",
        "       y = \"Ganancia Total\") +\n",
        "  guides(size = \"none\") +\n",
        "  theme_minimal() +\n",
        "\n",
        "  # --- NUEVO: Bloque detallado para ajustar el tamaño de todos los textos ---\n",
        "  theme(\n",
        "    plot.title = element_text(size = 20, face = \"bold\"), # Título principal\n",
        "    plot.subtitle = element_text(size = 16),              # Subtítulo\n",
        "    axis.title = element_text(size = 14),                 # Títulos de los ejes X e Y\n",
        "    axis.text = element_text(size = 12),                  # Números en los ejes X e Y\n",
        "    legend.title = element_text(size = 14),               # Título de la leyenda\n",
        "    legend.text = element_text(size = 12)                 # Etiquetas dentro de la leyenda\n",
        "  )\n",
        "\n",
        "\n",
        "\n",
        "print(grafico_curvas)\n",
        "\n",
        "ggsave(\n",
        "  \"curvas_de_ganancia.png\",   # Nombre del archivo de salida\n",
        "  plot = grafico_curvas,      # El objeto ggplot que quieres guardar\n",
        "  width = 16,                 # Ancho de la imagen en pulgadas\n",
        "  height = 8,                 # Alto de la imagen en pulgadas\n",
        "  dpi = 300,                  # Resolución (puntos por pulgada) para alta calidad\n",
        "  bg = \"white\"                # Fondo blanco para que se vea bien en slides\n",
        ")"
      ]
    },
    {
      "cell_type": "code",
      "execution_count": null,
      "metadata": {
        "colab": {
          "base_uri": "https://localhost:8080/"
        },
        "id": "TJ-J2i6mRVjB",
        "outputId": "8ef676f7-a896-4adb-d30e-b0336e5bcaae",
        "vscode": {
          "languageId": "r"
        }
      },
      "outputs": [
        {
          "name": "stdout",
          "output_type": "stream",
          "text": [
            "\n",
            "\n",
            "--- Óptimo de Envíos para cada Estrategia de Predicción ---\n",
            "    estrategia envios_optimo ganancia_max\n",
            "        <char>         <num>        <num>\n",
            " 1:     990023         11500    369200000\n",
            " 2:     990013         11500    364400000\n",
            " 3:     990053         10500    369200000\n",
            " 4:     990083         11500    365200000\n",
            " 5:     997009         12500    370000000\n",
            " 6:     990103         10000    368000000\n",
            " 7:     991117         11500    371600000\n",
            " 8:     993109         11500    368400000\n",
            " 9:     995107         11000    370400000\n",
            "10:     996133          9000    366400000\n",
            "11:   PROMEDIO         11500    370000000\n"
          ]
        }
      ],
      "source": [
        "# --- INICIO: SCRIPT PARA CALCULAR ÓPTIMOS DESDE ARCHIVO EXISTENTE ---\n",
        "\n",
        "require(\"data.table\")\n",
        "\n",
        "# --- 1. CONFIGURACIÓN Y FUNCIONES NECESARIAS ---\n",
        "PARAM <- list()\n",
        "PARAM$semilla_kaggle <- 314159\n",
        "PARAM$cortes <- seq(6000, 19000, by = 500)\n",
        "\n",
        "\n",
        "# --- 2. CARGA Y PREPARACIÓN DE DATOS ---\n",
        "predicciones_ensemble <- fread(\"ensemble_predicciones_temp.csv\") # <-- CARGA TU ARCHIVO\n",
        "dataset_original <- fread(\"~/dmeyf2025/src/ensembles/competencia_01_FE_V2.csv.gz\",stringsAsFactors= TRUE)\n",
        "dfuture <- dataset_original[foto_mes == 202104] # <-- Asegúrate que sea el mes de validación\n",
        "drealidad <- realidad_inicializar(dfuture, PARAM)\n",
        "columnas_predicciones_individuales <- grep(\"pred_\", colnames(predicciones_ensemble), value = TRUE)\n",
        "predicciones_ensemble[, prob_promedio := rowMeans(.SD), .SDcols = columnas_predicciones_individuales]\n",
        "\n",
        "# --- 3. CÁLCULO DE GANANCIAS ÓPTIMAS ---\n",
        "optimos_por_estrategia <- data.table()\n",
        "columnas_a_evaluar <- c(columnas_predicciones_individuales, \"prob_promedio\")\n",
        "for (col_pred in columnas_a_evaluar) {\n",
        "  nombre_curva <- if (col_pred == \"prob_promedio\") \"PROMEDIO\" else sub(\"pred_\", \"\", col_pred)\n",
        "  ganancia_max_actual <- -Inf\n",
        "  envios_optimo_actual <- 0\n",
        "  for (envios in PARAM$cortes) {\n",
        "    setorderv(predicciones_ensemble, cols = col_pred, order = -1)\n",
        "    predicciones_ensemble[, Predicted := 0L]\n",
        "    predicciones_ensemble[1:envios, Predicted := 1L]\n",
        "    res <- realidad_evaluar(drealidad, predicciones_ensemble)\n",
        "    if (res$total > ganancia_max_actual) {\n",
        "      ganancia_max_actual <- res$total\n",
        "      envios_optimo_actual <- envios\n",
        "    }\n",
        "  }\n",
        "  optimos_por_estrategia <- rbind(optimos_por_estrategia,\n",
        "                                  list(estrategia = nombre_curva,\n",
        "                                       envios_optimo = envios_optimo_actual,\n",
        "                                       ganancia_max = ganancia_max_actual))\n",
        "}\n",
        "\n",
        "# --- 4. MOSTRAR RESULTADO FINAL ---\n",
        "cat(\"\\n\\n--- Óptimo de Envíos para cada Estrategia de Predicción ---\\n\")\n",
        "print(optimos_por_estrategia)"
      ]
    },
    {
      "cell_type": "markdown",
      "metadata": {
        "id": "VNUa-WSz5Oqu"
      },
      "source": [
        "\n",
        "\n",
        "#### Final Training Junio para Kaggle"
      ]
    },
    {
      "cell_type": "code",
      "execution_count": null,
      "metadata": {
        "id": "AE8LdY5qsfFk",
        "vscode": {
          "languageId": "r"
        }
      },
      "outputs": [],
      "source": [
        "PARAM <- list()\n",
        "PARAM$experimento <- 5031\n",
        "PARAM$semilla_primigenia <- 997009\n",
        "experimento_folder <- paste0(\"HT\", PARAM$experimento)"
      ]
    },
    {
      "cell_type": "code",
      "execution_count": null,
      "metadata": {
        "id": "YZ0j0A8FsfFk",
        "outputId": "2368df83-4611-4ecd-c356-1d91559aeb67",
        "vscode": {
          "languageId": "r"
        }
      },
      "outputs": [
        {
          "name": "stdout",
          "output_type": "stream",
          "text": [
            "¡Recuperación Exitosa! Las variables han sido cargadas:\n",
            "Mejores hiperparámetros:\n",
            "$num_leaves\n",
            "[1] 180\n",
            "\n",
            "$min_data_in_leaf\n",
            "[1] 293\n",
            "\n",
            "$max_depth\n",
            "[1] 15\n",
            "\n",
            "$feature_fraction\n",
            "[1] 0.2176118\n",
            "\n",
            "$bagging_fraction\n",
            "[1] 0.742878\n",
            "\n",
            "$learning_rate\n",
            "[1] 0.01002797\n",
            "\n",
            "$num_iterations\n",
            "[1] 1297\n",
            "\n",
            "$min_gain_to_split\n",
            "[1] 1.648119\n",
            "\n"
          ]
        }
      ],
      "source": [
        "# --- INICIO: BLOQUE DE RECUPERACIÓN DE ESTADO ---\n",
        "\n",
        "# 1. Volvemos a definir los parámetros fijos que se borraron de la memoria\n",
        "# parametros fijos del LightGBM que se pisaran con la parte variable de la BO\n",
        "PARAM$lgbm$param_fijos <-  list(\n",
        "  boosting= \"gbdt\", # puede ir  dart  , ni pruebe random_forest\n",
        "  objective= \"binary\",\n",
        "  metric= \"auc\",\n",
        "  first_metric_only= FALSE,\n",
        "  boost_from_average= TRUE,\n",
        "  feature_pre_filter= FALSE,\n",
        "  force_row_wise= TRUE, # para reducir warnings\n",
        "  verbosity= -100,\n",
        "\n",
        "  seed= PARAM$semilla_primigenia,\n",
        "\n",
        "  max_depth= -1L, # -1 significa no limitar,  por ahora lo dejo fijo\n",
        "  min_gain_to_split= 0, # min_gain_to_split >= 0\n",
        "  min_sum_hessian_in_leaf= 0.001, #  min_sum_hessian_in_leaf >= 0.0\n",
        "  lambda_l1= 0.0, # lambda_l1 >= 0.0\n",
        "  lambda_l2= 0.0, # lambda_l2 >= 0.0\n",
        "  max_bin= 31L, # lo debo dejar fijo, no participa de la BO\n",
        "\n",
        "  bagging_fraction= 1.0, # 0.0 < bagging_fraction <= 1.0\n",
        "  pos_bagging_fraction= 1.0, # 0.0 < pos_bagging_fraction <= 1.0\n",
        "  neg_bagging_fraction= 1.0, # 0.0 < neg_bagging_fraction <= 1.0\n",
        "  is_unbalance= FALSE, #\n",
        "  scale_pos_weight= 1.0, # scale_pos_weight > 0.0\n",
        "\n",
        "  drop_rate= 0.1, # 0.0 < neg_bagging_fraction <= 1.0\n",
        "  max_drop= 50, # <=0 means no limit\n",
        "  skip_drop= 0.5, # 0.0 <= skip_drop <= 1.0\n",
        "\n",
        "  extra_trees= FALSE,\n",
        "\n",
        "  num_iterations= 1200,\n",
        "  learning_rate= 0.02,\n",
        "  feature_fraction= 0.5,\n",
        "  num_leaves= 750,\n",
        "  min_data_in_leaf= 5000\n",
        ")\n",
        "\n",
        "\n",
        "# 2. Leemos el log de la optimización que ya terminó para recuperar los mejores hiperparámetros\n",
        "#    Asegúrate de que la celda que define el directorio de trabajo (setwd) ya se haya ejecutado\n",
        "tb_bayesiana <- fread(paste0(\"../\", experimento_folder, \"/BO_log.txt\"))\n",
        "setorder(tb_bayesiana, -y) # Ordenamos por el puntaje 'y' (AUC) para encontrar el mejor\n",
        "\n",
        "# 3. Extraemos y creamos la variable 'mejores_hiperparametros'\n",
        "#    Asegúrate de que la lista coincida con los hiperparámetros que optimizaste\n",
        "PARAM$out$lgbm$mejores_hiperparametros <- as.list(tb_bayesiana[1, .(num_leaves, min_data_in_leaf, max_depth,\n",
        "                                                     feature_fraction, bagging_fraction, learning_rate,\n",
        "                                                     num_iterations, min_gain_to_split)]) # Ajusta esta lista si es necesario\n",
        "\n",
        "cat(\"¡Recuperación Exitosa! Las variables han sido cargadas:\\n\")\n",
        "cat(\"Mejores hiperparámetros:\\n\")\n",
        "print(PARAM$out$lgbm$mejores_hiperparametros)\n",
        "\n",
        "# --- FIN: BLOQUE DE RECUPERACIÓN DE ESTADO ---"
      ]
    },
    {
      "cell_type": "code",
      "execution_count": null,
      "metadata": {
        "id": "Rqcrc_fkvk7d",
        "vscode": {
          "languageId": "r"
        }
      },
      "outputs": [],
      "source": []
    },
    {
      "cell_type": "code",
      "execution_count": null,
      "metadata": {
        "id": "ZX22UOk0LK0k",
        "vscode": {
          "languageId": "r"
        }
      },
      "outputs": [],
      "source": [
        "# Parámetros para la corrida de PRODUCCIÓN\n",
        "PARAM$train_final <- c(202101, 202102, 202103, 202104)\n",
        "PARAM$future      <- c(202106)\n"
      ]
    },
    {
      "cell_type": "code",
      "execution_count": null,
      "metadata": {
        "id": "tnW6ylTsKCxR",
        "vscode": {
          "languageId": "r"
        }
      },
      "outputs": [],
      "source": [
        "# Reemplaza los siguientes números de ejemplo por TUS 6 \"números mágicos\"\n",
        "cortes_optimos <- c( \"promedio\" = 9000,\n",
        "                     \"990023\"   = 9000,\n",
        "                     \"990013\"   = 9000,\n",
        "                     \"990053\"   = 9500,\n",
        "                     \"990083\"   = 9500,\n",
        "                     \"997009\"   = 10500 )\n"
      ]
    },
    {
      "cell_type": "code",
      "execution_count": null,
      "metadata": {
        "id": "MMwxg6AdUNz6",
        "vscode": {
          "languageId": "r"
        }
      },
      "outputs": [],
      "source": [
        "# --- 4. GENERAR PREDICCIONES FINALES (ENSAMBLE DE PRODUCCIÓN) ---\n",
        "semillas_ensemble <- c(990023, 990013, 990053, 990083, 997009,990103, 991117, 993109, 995107, 996133)\n",
        "dfuture <- dataset[foto_mes %in% PARAM$future]"
      ]
    },
    {
      "cell_type": "code",
      "execution_count": null,
      "metadata": {
        "id": "KXQdVb10VdwI",
        "vscode": {
          "languageId": "r"
        }
      },
      "outputs": [],
      "source": [
        "archivo_progreso_prod <- \"ensemble_predicciones_final_temp.csv\" # Nuevo nombre de archivo de progreso\n",
        "\n",
        "# Cargamos el progreso si ya existe\n",
        "if (file.exists(archivo_progreso_prod)) {\n",
        "  predicciones_ensemble_final <- fread(archivo_progreso_prod)\n",
        "} else {\n",
        "  predicciones_ensemble_final <- dfuture[, .(numero_de_cliente, foto_mes)]\n",
        "}"
      ]
    },
    {
      "cell_type": "code",
      "execution_count": null,
      "metadata": {
        "id": "F6M7pMHGUgjX",
        "vscode": {
          "languageId": "r"
        }
      },
      "outputs": [],
      "source": [
        "campos_buenos <- setdiff(colnames(dataset), c(\"clase_ternaria\", \"clase01\", \"azar\", \"training\"))\n",
        "dataset_train <- dataset[foto_mes %in% PARAM$train_final]\n",
        "dataset_train[, clase01 := ifelse(clase_ternaria %in% c(\"BAJA+1\", \"BAJA+2\"), 1L, 0L)]\n",
        "dtrain <- lgb.Dataset(data = data.matrix(dataset_train[, campos_buenos, with = FALSE]),\n",
        "                      label = dataset_train[, clase01])"
      ]
    },
    {
      "cell_type": "code",
      "execution_count": null,
      "metadata": {
        "id": "CJTm3Jgono1h",
        "outputId": "63119f41-47d7-414c-e1f7-56f7eeff152a",
        "vscode": {
          "languageId": "r"
        }
      },
      "outputs": [
        {
          "data": {
            "text/html": [
              "<dl>\n",
              "\t<dt>$num_leaves</dt>\n",
              "\t\t<dd>180</dd>\n",
              "\t<dt>$min_data_in_leaf</dt>\n",
              "\t\t<dd>293</dd>\n",
              "\t<dt>$max_depth</dt>\n",
              "\t\t<dd>15</dd>\n",
              "\t<dt>$feature_fraction</dt>\n",
              "\t\t<dd>0.217611769918024</dd>\n",
              "\t<dt>$bagging_fraction</dt>\n",
              "\t\t<dd>0.74287796590229</dd>\n",
              "\t<dt>$learning_rate</dt>\n",
              "\t\t<dd>0.0100279698379973</dd>\n",
              "\t<dt>$num_iterations</dt>\n",
              "\t\t<dd>1297</dd>\n",
              "\t<dt>$min_gain_to_split</dt>\n",
              "\t\t<dd>1.64811946045267</dd>\n",
              "</dl>\n"
            ],
            "text/latex": [
              "\\begin{description}\n",
              "\\item[\\$num\\_leaves] 180\n",
              "\\item[\\$min\\_data\\_in\\_leaf] 293\n",
              "\\item[\\$max\\_depth] 15\n",
              "\\item[\\$feature\\_fraction] 0.217611769918024\n",
              "\\item[\\$bagging\\_fraction] 0.74287796590229\n",
              "\\item[\\$learning\\_rate] 0.0100279698379973\n",
              "\\item[\\$num\\_iterations] 1297\n",
              "\\item[\\$min\\_gain\\_to\\_split] 1.64811946045267\n",
              "\\end{description}\n"
            ],
            "text/markdown": [
              "$num_leaves\n",
              ":   180\n",
              "$min_data_in_leaf\n",
              ":   293\n",
              "$max_depth\n",
              ":   15\n",
              "$feature_fraction\n",
              ":   0.217611769918024\n",
              "$bagging_fraction\n",
              ":   0.74287796590229\n",
              "$learning_rate\n",
              ":   0.0100279698379973\n",
              "$num_iterations\n",
              ":   1297\n",
              "$min_gain_to_split\n",
              ":   1.64811946045267\n",
              "\n",
              "\n"
            ],
            "text/plain": [
              "$num_leaves\n",
              "[1] 180\n",
              "\n",
              "$min_data_in_leaf\n",
              "[1] 293\n",
              "\n",
              "$max_depth\n",
              "[1] 15\n",
              "\n",
              "$feature_fraction\n",
              "[1] 0.2176118\n",
              "\n",
              "$bagging_fraction\n",
              "[1] 0.742878\n",
              "\n",
              "$learning_rate\n",
              "[1] 0.01002797\n",
              "\n",
              "$num_iterations\n",
              "[1] 1297\n",
              "\n",
              "$min_gain_to_split\n",
              "[1] 1.648119\n"
            ]
          },
          "metadata": {},
          "output_type": "display_data"
        }
      ],
      "source": [
        "PARAM$out$lgbm$mejores_hiperparametros"
      ]
    },
    {
      "cell_type": "code",
      "execution_count": null,
      "metadata": {
        "id": "eDweFDyfvk7d",
        "vscode": {
          "languageId": "r"
        }
      },
      "outputs": [],
      "source": [
        "PARAM$trainingstrategy$trainingstrategy <- 0.25"
      ]
    },
    {
      "cell_type": "code",
      "execution_count": null,
      "metadata": {
        "id": "79RycC_Ovk7d",
        "outputId": "1d1d0a26-9594-4862-ab42-db63a7c3dc64",
        "vscode": {
          "languageId": "r"
        }
      },
      "outputs": [
        {
          "data": {
            "text/html": [
              "0.25"
            ],
            "text/latex": [
              "0.25"
            ],
            "text/markdown": [
              "0.25"
            ],
            "text/plain": [
              "[1] 0.25"
            ]
          },
          "metadata": {},
          "output_type": "display_data"
        }
      ],
      "source": [
        "PARAM$trainingstrategy$trainingstrategy"
      ]
    },
    {
      "cell_type": "code",
      "execution_count": null,
      "metadata": {
        "id": "0yVcZjXxVkQi",
        "outputId": "d5e6f787-d920-4a80-fcfe-ddfa3c897cdd",
        "vscode": {
          "languageId": "r"
        }
      },
      "outputs": [
        {
          "name": "stdout",
          "output_type": "stream",
          "text": [
            "\n",
            "Corriendo ensamble de PRODUCCIÓN para semilla: 990023 \n",
            "Progreso de producción guardado para semilla: 990023 \n",
            "\n",
            "Corriendo ensamble de PRODUCCIÓN para semilla: 990013 \n",
            "Progreso de producción guardado para semilla: 990013 \n",
            "\n",
            "Corriendo ensamble de PRODUCCIÓN para semilla: 990053 \n",
            "Progreso de producción guardado para semilla: 990053 \n",
            "\n",
            "Corriendo ensamble de PRODUCCIÓN para semilla: 990083 \n",
            "Progreso de producción guardado para semilla: 990083 \n",
            "\n",
            "Corriendo ensamble de PRODUCCIÓN para semilla: 997009 \n",
            "Progreso de producción guardado para semilla: 997009 \n",
            "\n",
            "Corriendo ensamble de PRODUCCIÓN para semilla: 990103 \n",
            "Progreso de producción guardado para semilla: 990103 \n",
            "\n",
            "Corriendo ensamble de PRODUCCIÓN para semilla: 991117 \n",
            "Progreso de producción guardado para semilla: 991117 \n",
            "\n",
            "Corriendo ensamble de PRODUCCIÓN para semilla: 993109 \n",
            "Progreso de producción guardado para semilla: 993109 \n",
            "\n",
            "Corriendo ensamble de PRODUCCIÓN para semilla: 995107 \n",
            "Progreso de producción guardado para semilla: 995107 \n",
            "\n",
            "Corriendo ensamble de PRODUCCIÓN para semilla: 996133 \n",
            "Progreso de producción guardado para semilla: 996133 \n",
            "\n",
            "Parámetros finales utilizados en la última iteración (semilla: 996133 ):\n",
            "$boosting\n",
            "[1] \"gbdt\"\n",
            "\n",
            "$objective\n",
            "[1] \"binary\"\n",
            "\n",
            "$metric\n",
            "[1] \"auc\"\n",
            "\n",
            "$first_metric_only\n",
            "[1] FALSE\n",
            "\n",
            "$boost_from_average\n",
            "[1] TRUE\n",
            "\n",
            "$feature_pre_filter\n",
            "[1] FALSE\n",
            "\n",
            "$force_row_wise\n",
            "[1] TRUE\n",
            "\n",
            "$verbosity\n",
            "[1] -100\n",
            "\n",
            "$seed\n",
            "[1] 996133\n",
            "\n",
            "$max_depth\n",
            "[1] 15\n",
            "\n",
            "$min_gain_to_split\n",
            "[1] 1.648119\n",
            "\n",
            "$min_sum_hessian_in_leaf\n",
            "[1] 0.001\n",
            "\n",
            "$lambda_l1\n",
            "[1] 0\n",
            "\n",
            "$lambda_l2\n",
            "[1] 0\n",
            "\n",
            "$max_bin\n",
            "[1] 31\n",
            "\n",
            "$bagging_fraction\n",
            "[1] 0.742878\n",
            "\n",
            "$pos_bagging_fraction\n",
            "[1] 1\n",
            "\n",
            "$neg_bagging_fraction\n",
            "[1] 1\n",
            "\n",
            "$is_unbalance\n",
            "[1] FALSE\n",
            "\n",
            "$scale_pos_weight\n",
            "[1] 1\n",
            "\n",
            "$drop_rate\n",
            "[1] 0.1\n",
            "\n",
            "$max_drop\n",
            "[1] 50\n",
            "\n",
            "$skip_drop\n",
            "[1] 0.5\n",
            "\n",
            "$extra_trees\n",
            "[1] FALSE\n",
            "\n",
            "$num_iterations\n",
            "[1] 1297\n",
            "\n",
            "$learning_rate\n",
            "[1] 0.01002797\n",
            "\n",
            "$feature_fraction\n",
            "[1] 0.2176118\n",
            "\n",
            "$num_leaves\n",
            "[1] 180\n",
            "\n",
            "$min_data_in_leaf\n",
            "[1] 1172\n",
            "\n",
            "\n",
            "Predicción final de ensamble para Junio generada con éxito.\n"
          ]
        }
      ],
      "source": [
        "for (semilla_actual in semillas_ensemble) {\n",
        "  nombre_col_pred <- paste0(\"pred_\", semilla_actual)\n",
        "\n",
        "  if (nombre_col_pred %in% colnames(predicciones_ensemble_final)) {\n",
        "    cat(\"Saltando semilla (ya existe en producción):\", semilla_actual, \"\\n\")\n",
        "    next\n",
        "  }\n",
        "\n",
        "  cat(\"\\nCorriendo ensamble de PRODUCCIÓN para semilla:\", semilla_actual, \"\\n\")\n",
        "  param_final <- modifyList(PARAM$lgbm$param_fijos, PARAM$out$lgbm$mejores_hiperparametros)\n",
        "  param_final$seed <- semilla_actual\n",
        "\n",
        "# Se normaliza el hiperparámetro. Si undersampling es 1.0, no hace nada. Si es otro valor, corrige.\n",
        "  param_final$min_data_in_leaf <- round(param_final$min_data_in_leaf / PARAM$trainingstrategy$undersampling)\n",
        "\n",
        "    modelo <- lgb.train(data = dtrain, param = param_final)\n",
        "  prediccion_actual <- predict(modelo, data.matrix(dfuture[, campos_buenos, with = FALSE]))\n",
        "  predicciones_ensemble_final[, (nombre_col_pred) := prediccion_actual]\n",
        "\n",
        "  fwrite(predicciones_ensemble_final, archivo_progreso_prod)\n",
        "  cat(\"Progreso de producción guardado para semilla:\", semilla_actual, \"\\n\")\n",
        "}\n",
        "\n",
        "# ---  Imprimir los parámetros de la última iteración para verificación ---\n",
        "cat(\"\\nParámetros finales utilizados en la última iteración (semilla:\", semilla_actual, \"):\\n\")\n",
        "print(param_final)\n",
        "\n",
        "columnas_predicciones <- grep(\"pred_\", colnames(predicciones_ensemble_final), value = TRUE)\n",
        "predicciones_ensemble_final[, prob_promedio := rowMeans(.SD), .SDcols = columnas_predicciones]\n",
        "cat(\"\\nPredicción final de ensamble para Junio generada con éxito.\\n\")\n"
      ]
    },
    {
      "cell_type": "code",
      "execution_count": null,
      "metadata": {
        "id": "pARWIaWeWeZV",
        "outputId": "9b89ad15-eeab-4c6f-908b-cf6cf8820aaf",
        "vscode": {
          "languageId": "r"
        }
      },
      "outputs": [
        {
          "name": "stdout",
          "output_type": "stream",
          "text": [
            "Se generarán 21 archivos de envío para el ensamble promedio...\n",
            "Archivo generado para corte 8500 : kaggle/KA5031_FINAL_promedio_8500.csv \n",
            "Archivo generado para corte 8700 : kaggle/KA5031_FINAL_promedio_8700.csv \n",
            "Archivo generado para corte 8900 : kaggle/KA5031_FINAL_promedio_8900.csv \n",
            "Archivo generado para corte 9100 : kaggle/KA5031_FINAL_promedio_9100.csv \n",
            "Archivo generado para corte 9300 : kaggle/KA5031_FINAL_promedio_9300.csv \n",
            "Archivo generado para corte 9500 : kaggle/KA5031_FINAL_promedio_9500.csv \n",
            "Archivo generado para corte 9700 : kaggle/KA5031_FINAL_promedio_9700.csv \n",
            "Archivo generado para corte 9900 : kaggle/KA5031_FINAL_promedio_9900.csv \n",
            "Archivo generado para corte 10100 : kaggle/KA5031_FINAL_promedio_10100.csv \n",
            "Archivo generado para corte 10300 : kaggle/KA5031_FINAL_promedio_10300.csv \n",
            "Archivo generado para corte 10500 : kaggle/KA5031_FINAL_promedio_10500.csv \n",
            "Archivo generado para corte 10700 : kaggle/KA5031_FINAL_promedio_10700.csv \n",
            "Archivo generado para corte 10900 : kaggle/KA5031_FINAL_promedio_10900.csv \n",
            "Archivo generado para corte 11100 : kaggle/KA5031_FINAL_promedio_11100.csv \n",
            "Archivo generado para corte 11300 : kaggle/KA5031_FINAL_promedio_11300.csv \n",
            "Archivo generado para corte 11500 : kaggle/KA5031_FINAL_promedio_11500.csv \n",
            "Archivo generado para corte 11700 : kaggle/KA5031_FINAL_promedio_11700.csv \n",
            "Archivo generado para corte 11900 : kaggle/KA5031_FINAL_promedio_11900.csv \n",
            "Archivo generado para corte 12100 : kaggle/KA5031_FINAL_promedio_12100.csv \n",
            "Archivo generado para corte 12300 : kaggle/KA5031_FINAL_promedio_12300.csv \n",
            "Archivo generado para corte 12500 : kaggle/KA5031_FINAL_promedio_12500.csv \n",
            "\n",
            "\n",
            "¡Proceso finalizado! Revisa tu carpeta 'kaggle' para encontrar los envíos de corte fino.\n"
          ]
        }
      ],
      "source": [
        "# --- 5. PASO FINAL: GENERAR ENVÍOS CON CORTES FINOS PARA EL ENSAMBLE ---\n",
        "dir.create(\"kaggle\", showWarnings = FALSE)\n",
        "PARAM$cortes <- seq(8500, 12500, by = 200)\n",
        "cat(\"Se generarán\", length(PARAM$cortes), \"archivos de envío para el ensamble promedio...\\n\")\n",
        "\n",
        "for (envios_actual in PARAM$cortes) {\n",
        "    setorder(predicciones_ensemble_final, -prob_promedio)\n",
        "    predicciones_ensemble_final[, Predicted := 0L]\n",
        "    predicciones_ensemble_final[1:envios_actual, Predicted := 1L]\n",
        "    archivo_salida <- paste0(\"kaggle/KA\", PARAM$experimento, \"_FINAL_promedio_\", envios_actual, \".csv\")\n",
        "    fwrite(predicciones_ensemble_final[, .(numero_de_cliente, Predicted)],\n",
        "           file = archivo_salida,\n",
        "           sep = \",\")\n",
        "    cat(\"Archivo generado para corte\", envios_actual, \":\", archivo_salida, \"\\n\")\n",
        "}\n",
        "\n",
        "cat(\"\\n\\n¡Proceso finalizado! Revisa tu carpeta 'kaggle' para encontrar los envíos de corte fino.\\n\")\n"
      ]
    },
    {
      "cell_type": "code",
      "execution_count": null,
      "metadata": {
        "id": "_GJPcW2rno1h",
        "outputId": "8eafe86e-d6ba-4df8-f0e2-05d2433a633c",
        "vscode": {
          "languageId": "r"
        }
      },
      "outputs": [
        {
          "ename": "ERROR",
          "evalue": "Error: Ejecución detenida aquí a propósito.\n",
          "output_type": "error",
          "traceback": [
            "Error: Ejecución detenida aquí a propósito.\nTraceback:\n",
            "1. .handleSimpleError(function (cnd) \n . {\n .     watcher$capture_plot_and_output()\n .     cnd <- sanitize_call(cnd)\n .     watcher$push(cnd)\n .     switch(on_error, continue = invokeRestart(\"eval_continue\"), \n .         stop = invokeRestart(\"eval_stop\"), error = NULL)\n . }, \"Ejecución detenida aquí a propósito.\", base::quote(eval(expr, \n .     envir)))"
          ]
        }
      ],
      "source": [
        "stop(\"Ejecución detenida aquí a propósito.\")"
      ]
    },
    {
      "cell_type": "markdown",
      "metadata": {
        "id": "7H9_Zqy1SXsE"
      },
      "source": [
        "FINAL TRAINING OLD"
      ]
    }
  ],
  "metadata": {
    "colab": {
      "provenance": []
    },
    "kernelspec": {
      "display_name": "R",
      "language": "R",
      "name": "ir"
    },
    "language_info": {
      "codemirror_mode": "r",
      "file_extension": ".r",
      "mimetype": "text/x-r-source",
      "name": "R",
      "pygments_lexer": "r",
      "version": "4.5.1"
    }
  },
  "nbformat": 4,
  "nbformat_minor": 0
}
